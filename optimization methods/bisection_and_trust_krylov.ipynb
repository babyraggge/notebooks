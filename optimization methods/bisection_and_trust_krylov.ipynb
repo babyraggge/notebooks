{
  "nbformat": 4,
  "nbformat_minor": 0,
  "metadata": {
    "kernelspec": {
      "display_name": "Python 3",
      "language": "python",
      "name": "python3"
    },
    "language_info": {
      "codemirror_mode": {
        "name": "ipython",
        "version": 3
      },
      "file_extension": ".py",
      "mimetype": "text/x-python",
      "name": "python",
      "nbconvert_exporter": "python",
      "pygments_lexer": "ipython3",
      "version": "3.7.3"
    },
    "colab": {
      "name": "bisection and trust-krylov.ipynb",
      "provenance": [],
      "collapsed_sections": []
    }
  },
  "cells": [
    {
      "cell_type": "code",
      "metadata": {
        "id": "eOh8mwlAAFzw"
      },
      "source": [
        "from scipy.optimize import minimize\n",
        "import numpy as np"
      ],
      "execution_count": 22,
      "outputs": []
    },
    {
      "cell_type": "code",
      "metadata": {
        "id": "8MryZhiUAGoy"
      },
      "source": [
        "def rosen(x):\n",
        "    return np.sum(100.0*(x[1:]-x[:-1]**2.0)**2.0 + (1-x[:-1])**2.0, axis=0)\n",
        "\n",
        "def rosen_der (x):\n",
        "    xm = x [1: -1]\n",
        "    xm_m1 = x [: - 2]\n",
        "    xm_p1 = x [2:]\n",
        "    der = np.zeros_like (x)\n",
        "    der [1: -1] = 200 * (xm-xm_m1 ** 2) - 400 * (xm_p1 - xm ** 2) * xm - 2 * (1-xm)\n",
        "    der [0] = -400 * x [0] * (x [1] -x [0] ** 2) - 2 * (1-x [0])\n",
        "    der [-1] = 200 * (x [-1] -x [-2] ** 2)\n",
        "    return der\n",
        "\n",
        "\n",
        "def rosen_hess(x):\n",
        "    x = np.asarray(x)\n",
        "    H = np.diag(-400*x[:-1],1) - np.diag(400*x[:-1],-1)\n",
        "    diagonal = np.zeros_like(x)\n",
        "    diagonal[0] = 1200*x[0]**2-400*x[1]+2\n",
        "    diagonal[-1] = 200\n",
        "    diagonal[1:-1] = 202 + 1200*x[1:-1]**2 - 400*x[2:]\n",
        "    H = H + np.diag(diagonal)\n",
        "    return H"
      ],
      "execution_count": 23,
      "outputs": []
    },
    {
      "cell_type": "code",
      "metadata": {
        "id": "e8i78xBf_5Md"
      },
      "source": [
        "def Bisection(f: object, a: float, b: float, \n",
        "              eps: float=1e-3, steps: int=1000, verbose: bool=False) -> (float, int):\n",
        "    for i in range(steps): \n",
        "        if abs(b-a) <= eps:\n",
        "            break              \n",
        "        x = (a + b) / 2\n",
        "        f1 = f(x + eps)\n",
        "        f2 = f(x - eps)\n",
        "        if f1 < f2:\n",
        "            a = x\n",
        "        else:\n",
        "            b = x         \n",
        "        if verbose: print(\"Iter: {0} --> x = {1}\".format(i, x))           \n",
        "    try:\n",
        "        return x, i  \n",
        "    except UnboundLocalError:\n",
        "        print(\"Eps is more then lenght of the interval\")\n",
        "        return None"
      ],
      "execution_count": 24,
      "outputs": []
    },
    {
      "cell_type": "code",
      "metadata": {
        "id": "06fWJy3L_5Mn"
      },
      "source": [
        "def ff1(x):\n",
        "    return x**2 - x*2 + 3\n",
        "\n",
        "def ff2(x):\n",
        "  return x**3 - 2*x*2 + 3*x - 2\n",
        "\n",
        "def ff3(x):\n",
        "  return x**3 - 2*x + 2"
      ],
      "execution_count": 25,
      "outputs": []
    },
    {
      "cell_type": "code",
      "metadata": {
        "id": "IgZhtU-d_5Mv",
        "outputId": "473b9a3a-0d5c-4190-e206-fb349194ecdc",
        "colab": {
          "base_uri": "https://localhost:8080/"
        }
      },
      "source": [
        "Bisection(ff1, -2, 2, verbose=True)"
      ],
      "execution_count": 11,
      "outputs": [
        {
          "output_type": "stream",
          "text": [
            "Iter: 0 --> x = 0.0\n",
            "Iter: 1 --> x = 1.0\n",
            "Iter: 2 --> x = 0.5\n",
            "Iter: 3 --> x = 0.75\n",
            "Iter: 4 --> x = 0.875\n",
            "Iter: 5 --> x = 0.9375\n",
            "Iter: 6 --> x = 0.96875\n",
            "Iter: 7 --> x = 0.984375\n",
            "Iter: 8 --> x = 0.9921875\n",
            "Iter: 9 --> x = 0.99609375\n",
            "Iter: 10 --> x = 0.998046875\n",
            "Iter: 11 --> x = 0.9990234375\n"
          ],
          "name": "stdout"
        },
        {
          "output_type": "execute_result",
          "data": {
            "text/plain": [
              "(0.9990234375, 12)"
            ]
          },
          "metadata": {
            "tags": []
          },
          "execution_count": 11
        }
      ]
    },
    {
      "cell_type": "code",
      "metadata": {
        "id": "Dw60Uzy_5cGt",
        "outputId": "c0995b92-a94c-4e41-9d5a-3d0f97058dfd",
        "colab": {
          "base_uri": "https://localhost:8080/"
        }
      },
      "source": [
        "Bisection(ff2, -2, 2, verbose=True)"
      ],
      "execution_count": 17,
      "outputs": [
        {
          "output_type": "stream",
          "text": [
            "Iter: 0 --> x = 0.0\n",
            "Iter: 1 --> x = 1.0\n",
            "Iter: 2 --> x = 0.5\n",
            "Iter: 3 --> x = 0.75\n",
            "Iter: 4 --> x = 0.625\n",
            "Iter: 5 --> x = 0.5625\n",
            "Iter: 6 --> x = 0.59375\n",
            "Iter: 7 --> x = 0.578125\n",
            "Iter: 8 --> x = 0.5703125\n",
            "Iter: 9 --> x = 0.57421875\n",
            "Iter: 10 --> x = 0.576171875\n",
            "Iter: 11 --> x = 0.5771484375\n"
          ],
          "name": "stdout"
        },
        {
          "output_type": "execute_result",
          "data": {
            "text/plain": [
              "(0.5771484375, 12)"
            ]
          },
          "metadata": {
            "tags": []
          },
          "execution_count": 17
        }
      ]
    },
    {
      "cell_type": "code",
      "metadata": {
        "id": "MmwqurTd5cSr",
        "outputId": "18e61a07-f9dd-4312-b427-42fe734808bf",
        "colab": {
          "base_uri": "https://localhost:8080/"
        }
      },
      "source": [
        "Bisection(ff3, -2, 2, verbose=True)"
      ],
      "execution_count": 21,
      "outputs": [
        {
          "output_type": "stream",
          "text": [
            "Iter: 0 --> x = 0.0\n",
            "Iter: 1 --> x = 1.0\n",
            "Iter: 2 --> x = 0.5\n",
            "Iter: 3 --> x = 0.75\n",
            "Iter: 4 --> x = 0.875\n",
            "Iter: 5 --> x = 0.8125\n",
            "Iter: 6 --> x = 0.84375\n",
            "Iter: 7 --> x = 0.828125\n",
            "Iter: 8 --> x = 0.8203125\n",
            "Iter: 9 --> x = 0.81640625\n",
            "Iter: 10 --> x = 0.818359375\n",
            "Iter: 11 --> x = 0.8173828125\n"
          ],
          "name": "stdout"
        },
        {
          "output_type": "execute_result",
          "data": {
            "text/plain": [
              "(0.8173828125, 12)"
            ]
          },
          "metadata": {
            "tags": []
          },
          "execution_count": 21
        }
      ]
    },
    {
      "cell_type": "code",
      "metadata": {
        "id": "tIS6j4wj_5M1",
        "outputId": "5de33d17-0dcd-4bc0-e639-bedefbe05403",
        "colab": {
          "base_uri": "https://localhost:8080/"
        }
      },
      "source": [
        "# func: оптимизируемая функция\n",
        "# x0:  начальное приближение \n",
        "# jac: метод для вычисления вектора градиента\n",
        "# hess: метод для вычисления гёссиана\n",
        "\n",
        "x0 = np.array([1.3, 0.7, 0.8, 1.9, 1.2])\n",
        "res = minimize(rosen, x0, method='trust-krylov',\n",
        "               jac=rosen_der, hess=rosen_hess,\n",
        "               options={'gtol': 1e-8, 'disp': True})"
      ],
      "execution_count": 26,
      "outputs": [
        {
          "output_type": "stream",
          "text": [
            " iter inewton type    objective     âgââ_Mâ»Â¹      leftmost         Î»             Î³             Î´             Î±             Î²       \n",
            "     0     0  cg_i -6.273083e+02  4.029038e+02  0.000000e+00  0.000000e+00  2.246107e+03  4.021147e+03  2.486853e-04  3.217671e-02\n",
            "\n",
            " iter inewton type    objective     âgââ_Mâ»Â¹      leftmost         Î»             Î³             Î´             Î±             Î²       \n",
            "     0     0  cg_i -9.528585e+01  1.478412e+02  0.000000e+00  0.000000e+00  6.001708e+02  1.890129e+03  5.290645e-04  6.067939e-02\n",
            "\n",
            " iter inewton type    objective     âgââ_Mâ»Â¹      leftmost         Î»             Î³             Î´             Î±             Î²       \n",
            "     0     0  cg_i -8.662599e+00  5.824611e+01  0.000000e+00  0.000000e+00  1.285783e+02  9.542387e+02  1.047956e-03  2.052100e-01\n",
            "\n",
            " iter inewton type    objective     âgââ_Mâ»Â¹      leftmost         Î»             Î³             Î´             Î±             Î²       \n",
            "     0     0  cg_i -1.798598e+00  3.481545e+01  0.000000e+00  0.000000e+00  5.168333e+01  7.425689e+02  1.346676e-03  4.537776e-01\n",
            "\n",
            "     1     0  cg_i -2.721261e+00  1.426076e+01  0.000000e+00  0.000000e+00  5.002168e+02  9.938183e+02  1.522401e-03  1.677804e-01\n",
            "\n",
            " iter inewton type    objective     âgââ_Mâ»Â¹      leftmost         Î»             Î³             Î´             Î±             Î²       \n",
            "     0     0  cg_i -7.242386e-02  4.575385e+00  0.000000e+00  0.000000e+00  1.400669e+01  1.354439e+03  7.383128e-04  1.067048e-01\n",
            "\n",
            " iter inewton type    objective     âgââ_Mâ»Â¹      leftmost         Î»             Î³             Î´             Î±             Î²       \n",
            "     0     0  cg_i -8.331939e-03  2.017934e+00  0.000000e+00  0.000000e+00  4.550681e+00  1.242730e+03  8.046802e-04  1.966351e-01\n",
            "\n",
            " iter inewton type    objective     âgââ_Mâ»Â¹      leftmost         Î»             Î³             Î´             Î±             Î²       \n",
            "     0     0  cg_i -1.639774e-03  1.039910e+00  0.000000e+00  0.000000e+00  2.017620e+00  1.241266e+03  8.056290e-04  2.656515e-01\n",
            "\n",
            "     1     0  cg_i -2.362748e-03  4.063620e-01  0.000000e+00  0.000000e+00  6.397659e+02  1.077635e+03  1.337094e-03  1.526986e-01\n",
            "\n",
            " iter inewton type    objective     âgââ_Mâ»Â¹      leftmost         Î»             Î³             Î´             Î±             Î²       \n",
            "     0     0  cg_i -1.218928e-04  2.280362e-01  0.000000e+00  0.000000e+00  4.066296e-01  6.782503e+02  1.474382e-03  3.144920e-01\n",
            "\n",
            "     1     0  cg_i -1.746236e-04  3.200387e-01  0.000000e+00  0.000000e+00  3.803600e+02  7.063791e+02  2.028090e-03  1.969687e+00\n",
            "\n",
            "     2     0  cg_i -3.519759e-04  3.984883e-01  0.000000e+00  0.000000e+00  6.920085e+02  1.259964e+03  3.463074e-03  1.550338e+00\n",
            "\n",
            "     3     0  cg_i -5.758296e-03  3.569591e+00  0.000000e+00  0.000000e+00  3.595435e+02  4.623626e+02  6.809270e-02  8.024274e+01\n",
            "\n",
            " TR Solving trust region problem, radius 2.500000e-01; starting on first irreducible block\n",
            " TR Coldstart. Seeking suitable initial Î»â, starting with 0\n",
            " TR Starting Newton iteration for Î»â with initial choice 0.000000e+00\n",
            " TR  iter        Î»            dÎ»       âhâ(Î»)â-radius\n",
            " TR      1  2.943145e-01  2.943145e-01  3.059076e-07\n",
            " TR      2  2.943152e-01  7.617834e-07 -1.801337e-14\n",
            "\n",
            " iter inewton type    objective     Î³áµ¢ââ|háµ¢|      leftmost         Î»             Î³             Î´       \n",
            "     4     2   hot -2.875301e-02  0.000000e+00  0.000000e+00  2.943152e-01  1.315535e+02  1.382362e+03\n",
            "\n",
            "Early exit as hotstart with early termination on\n",
            "\n",
            " iter inewton type    objective     âgââ_Mâ»Â¹      leftmost         Î»             Î³             Î´             Î±             Î²       \n",
            "     0     0  cg_i -7.518233e-03  1.522235e+00  0.000000e+00  0.000000e+00  4.090478e+00  1.112762e+03  8.986647e-04  1.384891e-01\n",
            "\n",
            " iter inewton type    objective     âgââ_Mâ»Â¹      leftmost         Î»             Î³             Î´             Î±             Î²       \n",
            "     0     0  cg_i -1.096841e-03  8.409536e-01  0.000000e+00  0.000000e+00  1.518407e+00  1.051001e+03  9.514742e-04  3.067379e-01\n",
            "\n",
            "     1     0  cg_i -1.570721e-03  3.392978e-01  0.000000e+00  0.000000e+00  5.820853e+02  1.068564e+03  1.340154e-03  1.627863e-01\n",
            "\n",
            " iter inewton type    objective     âgââ_Mâ»Â¹      leftmost         Î»             Î³             Î´             Î±             Î²       \n",
            "     0     0  cg_i -6.479100e-05  1.641071e-01  0.000000e+00  0.000000e+00  3.391135e-01  8.874534e+02  1.126820e-03  2.341879e-01\n",
            "\n",
            "     1     0  cg_i -8.150449e-05  1.044376e-01  0.000000e+00  0.000000e+00  4.294650e+02  1.013502e+03  1.241202e-03  4.050039e-01\n",
            "\n",
            " iter inewton type    objective     âgââ_Mâ»Â¹      leftmost         Î»             Î³             Î´             Î±             Î²       \n",
            "     0     0  cg_i -6.864955e-06  9.214155e-02  0.000000e+00  0.000000e+00  1.044215e-01  7.941673e+02  1.259181e-03  7.786304e-01\n",
            "\n",
            "     1     0  cg_i -1.991674e-05  1.301343e-01  0.000000e+00  0.000000e+00  7.007735e+02  9.436083e+02  3.074601e-03  1.994676e+00\n",
            "\n",
            "     2     0  cg_i -1.195321e-04  3.179941e-01  0.000000e+00  0.000000e+00  4.593539e+02  7.337610e+02  1.176448e-02  5.971103e+00\n",
            "\n",
            "     3     0  cg_i -4.188868e-04  7.535566e-01  0.000000e+00  0.000000e+00  2.077086e+02  6.764504e+02  5.920769e-03  5.615569e+00\n",
            "\n",
            " iter inewton type    objective     âgââ_Mâ»Â¹      leftmost         Î»             Î³             Î´             Î±             Î²       \n",
            "     0     0  cg_i -8.816451e-04  5.184366e-01  0.000000e+00  0.000000e+00  1.324450e+00  9.948272e+02  1.005200e-03  1.532216e-01\n",
            "\n",
            " iter inewton type    objective     âgââ_Mâ»Â¹      leftmost         Î»             Î³             Î´             Î±             Î²       \n",
            "     0     0  cg_i -1.332921e-04  2.868284e-01  0.000000e+00  0.000000e+00  5.178932e-01  1.006112e+03  9.939256e-04  3.067355e-01\n",
            "\n",
            "     1     0  cg_i -1.931659e-04  1.227712e-01  0.000000e+00  0.000000e+00  5.572219e+02  9.956424e+02  1.455536e-03  1.832097e-01\n",
            "\n",
            " iter inewton type    objective     âgââ_Mâ»Â¹      leftmost         Î»             Î³             Î´             Î±             Î²       \n",
            "     0     0  cg_i -7.494787e-06  5.036955e-02  0.000000e+00  0.000000e+00  1.227312e-01  1.004896e+03  9.951282e-04  1.684325e-01\n",
            "\n",
            "     1     0  cg_i -9.038951e-06  2.464230e-02  0.000000e+00  0.000000e+00  4.124145e+02  9.907665e+02  1.217272e-03  2.393460e-01\n",
            "\n",
            "     2     0  cg_i -9.419876e-06  1.237374e-02  0.000000e+00  0.000000e+00  4.019071e+02  9.936897e+02  1.254603e-03  2.521387e-01\n",
            "\n",
            " iter inewton type    objective     âgââ_Mâ»Â¹      leftmost         Î»             Î³             Î´             Î±             Î²       \n",
            "     0     0  cg_i -8.123315e-08  6.017427e-03  0.000000e+00  0.000000e+00  1.237352e-02  9.423732e+02  1.061151e-03  2.365023e-01\n",
            "\n",
            "     1     0  cg_i -1.141577e-07  5.764425e-03  0.000000e+00  0.000000e+00  4.582903e+02  7.727586e+02  1.818562e-03  9.176781e-01\n",
            "\n",
            "     2     0  cg_i -1.714596e-07  9.206608e-03  0.000000e+00  0.000000e+00  5.267653e+02  7.945608e+02  3.448951e-03  2.550864e+00\n",
            "\n",
            "     3     0  cg_i -3.626456e-07  1.409674e-02  0.000000e+00  0.000000e+00  4.630807e+02  9.612789e+02  4.511145e-03  2.344434e+00\n",
            "\n",
            " iter inewton type    objective     âgââ_Mâ»Â¹      leftmost         Î»             Î³             Î´             Î±             Î²       \n",
            "     0     0  cg_i -7.032046e-09  1.474521e-03  0.000000e+00  0.000000e+00  3.727647e-03  9.880023e+02  1.012143e-03  1.564705e-01\n",
            "\n",
            "     1     0  cg_i -8.304899e-09  6.906989e-04  0.000000e+00  0.000000e+00  3.908177e+02  1.008664e+03  1.170863e-03  2.194196e-01\n",
            "\n",
            "     2     0  cg_i -8.600911e-09  3.514945e-04  0.000000e+00  0.000000e+00  4.000658e+02  9.932200e+02  1.240972e-03  2.589760e-01\n",
            "\n",
            "     3     0  cg_i -8.677805e-09  2.907239e-05  0.000000e+00  0.000000e+00  4.100794e+02  1.012058e+03  1.244756e-03  6.841074e-03\n",
            "\n",
            " iter inewton type    objective     âgââ_Mâ»Â¹      leftmost         Î»             Î³             Î´             Î±             Î²       \n",
            "     0     0  cg_i -1.065816e-17  7.061929e-08  0.000000e+00  0.000000e+00  1.369755e-07  8.801844e+02  1.136126e-03  2.658036e-01\n",
            "\n",
            "     1     0  cg_i -1.488030e-17  6.089564e-08  0.000000e+00  0.000000e+00  4.537891e+02  8.245442e+02  1.693228e-03  7.435764e-01\n",
            "\n",
            "     2     0  cg_i -2.014909e-17  8.298704e-08  0.000000e+00  0.000000e+00  5.092692e+02  7.910571e+02  2.841638e-03  1.857155e+00\n",
            "\n",
            "     3     0  cg_i -3.327619e-17  1.245258e-07  0.000000e+00  0.000000e+00  4.795737e+02  9.158651e+02  3.812224e-03  2.251637e+00\n",
            "\n",
            "Optimization terminated successfully.\n",
            "         Current function value: 0.000000\n",
            "         Iterations: 19\n",
            "         Function evaluations: 20\n",
            "         Gradient evaluations: 20\n",
            "         Hessian evaluations: 18\n"
          ],
          "name": "stdout"
        }
      ]
    },
    {
      "cell_type": "code",
      "metadata": {
        "id": "5YS661dPBWmj",
        "outputId": "f4c0f039-3993-491e-8e2b-433be06937a4",
        "colab": {
          "base_uri": "https://localhost:8080/"
        }
      },
      "source": [
        "res.x"
      ],
      "execution_count": 27,
      "outputs": [
        {
          "output_type": "execute_result",
          "data": {
            "text/plain": [
              "array([1., 1., 1., 1., 1.])"
            ]
          },
          "metadata": {
            "tags": []
          },
          "execution_count": 27
        }
      ]
    },
    {
      "cell_type": "code",
      "metadata": {
        "id": "w4oFkt68_95k"
      },
      "source": [
        ""
      ],
      "execution_count": null,
      "outputs": []
    }
  ]
}
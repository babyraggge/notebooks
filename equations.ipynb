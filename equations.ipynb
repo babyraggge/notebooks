{
 "cells": [
  {
   "cell_type": "code",
   "execution_count": 62,
   "metadata": {},
   "outputs": [],
   "source": [
    "import sys\n",
    "import math\n",
    "from sympy import symbol, sin, tan, log, diff, lambdify"
   ]
  },
  {
   "cell_type": "markdown",
   "metadata": {},
   "source": [
    "# Нелинейные уравнения и системы"
   ]
  },
  {
   "cell_type": "markdown",
   "metadata": {},
   "source": [
    "## Метод Ньютона"
   ]
  },
  {
   "cell_type": "markdown",
   "metadata": {},
   "source": [
    "Реализуем Метод Ньютона (метод касательных):"
   ]
  },
  {
   "cell_type": "code",
   "execution_count": 2,
   "metadata": {},
   "outputs": [],
   "source": [
    "def Newton(f: object, dfdx: object, x: float, eps: float=0.001) -> (float, int):\n",
    "    f_value = f(x)\n",
    "    iteration_counter = 0\n",
    "    while abs(f_value) > eps and iteration_counter < 100:\n",
    "        try :\n",
    "            x = x - f_value/dfdx(x)\n",
    "        except ZeroDivisionError as err:\n",
    "            print(err)\n",
    "            sys.exit(1)\n",
    "        f_value = f(x)\n",
    "        iteration_counter += 1\n",
    "        \n",
    "    if abs(f_value) > eps:\n",
    "        iteration_counter=-1\n",
    "    return x, iteration_counter"
   ]
  },
  {
   "cell_type": "markdown",
   "metadata": {},
   "source": [
    "Функцию и ее производную реализуем средствами стандартной библиотеки math"
   ]
  },
  {
   "cell_type": "code",
   "execution_count": 3,
   "metadata": {},
   "outputs": [],
   "source": [
    "def f1(x):\n",
    "    return math.sin(x) - x\n",
    "\n",
    "def f2(x):\n",
    "    return math.tan(x) - x**2\n",
    "\n",
    "def df1dx(x):\n",
    "    return math.cos(x) - 1"
   ]
  },
  {
   "cell_type": "markdown",
   "metadata": {},
   "source": [
    "Ожидаемое решение уравнения x = sin(x) ожидаемо находится в 0. Попробуем изменить начальное приближение, используя значения, достаточно близкие к 0. "
   ]
  },
  {
   "cell_type": "code",
   "execution_count": 6,
   "metadata": {},
   "outputs": [
    {
     "name": "stdout",
     "output_type": "stream",
     "text": [
      "(-0.12780966756070827, 5)\n",
      "(-0.14713338829825784, 3)\n",
      "(0.0, 0)\n",
      "(0.14713338829825784, 3)\n",
      "(0.12780966756070827, 5)\n",
      "Wall time: 1.01 ms\n"
     ]
    }
   ],
   "source": [
    "%%time\n",
    "\n",
    "for x in [i/2 for i in range(-2, 3)]:\n",
    "    print(Newton(f1, df1dx, x))"
   ]
  },
  {
   "cell_type": "markdown",
   "metadata": {},
   "source": [
    "Так же имеет смысл воспользоваться символьными вычислениями. Несмотря на заметное снижение скорости работы, нет необходимости задумывать о самостоятельном аналитическом вычислении производной."
   ]
  },
  {
   "cell_type": "code",
   "execution_count": 7,
   "metadata": {},
   "outputs": [
    {
     "name": "stdout",
     "output_type": "stream",
     "text": [
      "(-0.12780966756070827, 5)\n",
      "(-0.14713338829825784, 3)\n",
      "(0.0, 0)\n",
      "(0.14713338829825784, 3)\n",
      "(0.12780966756070827, 5)\n",
      "Wall time: 3.99 ms\n"
     ]
    }
   ],
   "source": [
    "%%time\n",
    "\n",
    "x = symbol.Symbol('x')\n",
    "f_expr = sin(x) - x\n",
    "dfdx_expr = diff(f_expr, x)\n",
    "\n",
    "f_one = lambdify([x], f_expr)\n",
    "dfdx_one = lambdify([x], dfdx_expr)\n",
    "\n",
    "for x in [i/2 for i in range(-2, 3)]:\n",
    "    print(Newton(f_one, dfdx_one, x))"
   ]
  },
  {
   "cell_type": "markdown",
   "metadata": {},
   "source": [
    "Аналогично поступим и с уравнением x^2 = tg(x). Ожидаем решение в 0."
   ]
  },
  {
   "cell_type": "code",
   "execution_count": 8,
   "metadata": {},
   "outputs": [
    {
     "name": "stdout",
     "output_type": "stream",
     "text": [
      "(-1.8538791463226192, 7)\n",
      "(-1.8539085347956428, 6)\n",
      "(-1.853927447916057, 5)\n",
      "(-1.853876337883306, 3)\n",
      "(-0.0005219408752792642, 4)\n",
      "(0, 0)\n",
      "(-1.4274290365031816e-06, 6)\n",
      "(-2.648836078104986e-05, 11)\n",
      "(-1.9613888469936433e-05, 7)\n",
      "(-4.537253899664778e-05, 8)\n",
      "(-0.0001404098530976665, 6)\n",
      "(-0.0005602706420982546, 4)\n",
      "(-0.0009487861590114152, 8)\n",
      "(-0.00034129377588961243, 14)\n",
      "(-6.907072372023745e-05, 6)\n",
      "Wall time: 5.98 ms\n"
     ]
    }
   ],
   "source": [
    "%%time\n",
    "\n",
    "x = symbol.Symbol('x')\n",
    "f_expr = x**2 - tan(x)\n",
    "dfdx_expr = diff(f_expr, x)\n",
    "\n",
    "f_two = lambdify([x], f_expr)\n",
    "dfdx_two = lambdify([x], dfdx_expr)\n",
    "\n",
    "for x in range(-5, 10):\n",
    "    print(Newton(f_two, dfdx_two, x))"
   ]
  },
  {
   "cell_type": "markdown",
   "metadata": {},
   "source": [
    "## Метод хорд (метод секущих)"
   ]
  },
  {
   "cell_type": "markdown",
   "metadata": {},
   "source": [
    "Далее реализуем метод хорд"
   ]
  },
  {
   "cell_type": "code",
   "execution_count": 9,
   "metadata": {},
   "outputs": [],
   "source": [
    "def Secant(f: object, x0: float, eps: float=1e-7, kmax: int=1e3) -> (float, int):\n",
    "    x, x_prev, i = x0, x0 + 2 * eps, 0\n",
    "    \n",
    "    while abs(x - x_prev) >= eps and i < kmax:\n",
    "        x = x - f(x) / (f(x) - f(x_prev)) * (x - x_prev)\n",
    "        x_prev = x\n",
    "        i += 1\n",
    "    return x, i"
   ]
  },
  {
   "cell_type": "code",
   "execution_count": 10,
   "metadata": {},
   "outputs": [
    {
     "name": "stdout",
     "output_type": "stream",
     "text": [
      "(-1.2298096393445845, 1)\n",
      "(-0.655145008902154, 1)\n",
      "(0.0, 1)\n",
      "(0.6551451352725557, 1)\n",
      "(1.2298097381180813, 1)\n"
     ]
    }
   ],
   "source": [
    "for x in range(-2, 3):\n",
    "    print(Secant(f1, x))"
   ]
  },
  {
   "cell_type": "code",
   "execution_count": 11,
   "metadata": {},
   "outputs": [
    {
     "name": "stdout",
     "output_type": "stream",
     "text": [
      "(-1.8143149602174096, 1)\n",
      "(-0.5286334069064893, 1)\n",
      "(0.0, 1)\n",
      "(0.6089792869593829, 1)\n",
      "(5.485714687408281, 1)\n"
     ]
    }
   ],
   "source": [
    "for x in range(-2, 3):\n",
    "    print(Secant(f2, x))"
   ]
  },
  {
   "cell_type": "markdown",
   "metadata": {},
   "source": [
    "## Метод половинного деления (метод дихотомии)"
   ]
  },
  {
   "cell_type": "code",
   "execution_count": 54,
   "metadata": {},
   "outputs": [],
   "source": [
    "def Bisection(f: object, a: float, b: float, eps: float=0.001) -> (float, int):\n",
    "    i = 0\n",
    "    while abs(b - a) > eps:\n",
    "        dx = (b - a) / 2\n",
    "        x = a + dx\n",
    "        \n",
    "        if math.copysign(1, f(a)) != math.copysign(1, f(x)):\n",
    "            b = x\n",
    "        else:\n",
    "            a = x\n",
    "        i += 1\n",
    "    try:\n",
    "        return x, i\n",
    "    \n",
    "    except UnboundLocalError:\n",
    "        print(\"Eps is more then lenght of the interval\")\n",
    "        return None"
   ]
  },
  {
   "cell_type": "markdown",
   "metadata": {},
   "source": [
    "Увеличивая параметр eps мы будем приближаться к 0."
   ]
  },
  {
   "cell_type": "code",
   "execution_count": 60,
   "metadata": {},
   "outputs": [
    {
     "name": "stdout",
     "output_type": "stream",
     "text": [
      "(2.1478626877069473e-08, 36)\n",
      "(2.1420419216156006e-08, 32)\n",
      "(2.2351741790771484e-08, 29)\n",
      "(5.960464477539063e-08, 26)\n",
      "(9.5367431640625e-07, 22)\n",
      "(7.62939453125e-06, 19)\n",
      "(6.103515625e-05, 16)\n",
      "(0.0009765625, 12)\n",
      "(0.0078125, 9)\n",
      "(0.0625, 6)\n",
      "(1.0, 2)\n"
     ]
    }
   ],
   "source": [
    "for eps in [10**i for i in range(-10, 1)]:\n",
    "    print(Bisection(f1, -2.0, 2.0, eps=eps))"
   ]
  },
  {
   "cell_type": "markdown",
   "metadata": {},
   "source": [
    "Соответственно если eps будет больше чем длина интервала, на котором мы ищим корень, то метод не имеет смысла."
   ]
  },
  {
   "cell_type": "code",
   "execution_count": 61,
   "metadata": {},
   "outputs": [
    {
     "name": "stdout",
     "output_type": "stream",
     "text": [
      "(-5.820766091346741e-11, 36)\n",
      "(-9.313225746154785e-10, 32)\n",
      "(-7.450580596923828e-09, 29)\n",
      "(-5.960464477539063e-08, 26)\n",
      "(-9.5367431640625e-07, 22)\n",
      "(-7.62939453125e-06, 19)\n",
      "(-6.103515625e-05, 16)\n",
      "(-0.0009765625, 12)\n",
      "(-0.0078125, 9)\n",
      "(-0.0625, 6)\n",
      "(-1.0, 2)\n",
      "Eps is more then lenght of the interval\n",
      "None\n"
     ]
    }
   ],
   "source": [
    "for eps in [10**i for i in range(-10, 2)]:\n",
    "    print(Bisection(f2, -2.0, 2.0, eps=eps))"
   ]
  },
  {
   "cell_type": "markdown",
   "metadata": {},
   "source": [
    "## ln(x) + x – 2 = 0."
   ]
  },
  {
   "cell_type": "markdown",
   "metadata": {},
   "source": [
    "Подготовим функцию. Решение находится в точке 1.557, можно выбрать одну точку в качестве начального приближения, например точку x = 1."
   ]
  },
  {
   "cell_type": "code",
   "execution_count": 71,
   "metadata": {},
   "outputs": [],
   "source": [
    "def func(x):\n",
    "    return math.log(x) + x - 2\n",
    "\n",
    "x = symbol.Symbol('x')\n",
    "f_expr = log(x) + x - 2\n",
    "dfdx_expr = diff(f_expr, x)\n",
    "\n",
    "f = lambdify([x], f_expr)\n",
    "dfdx = lambdify([x], dfdx_expr)"
   ]
  },
  {
   "cell_type": "code",
   "execution_count": 74,
   "metadata": {},
   "outputs": [
    {
     "name": "stdout",
     "output_type": "stream",
     "text": [
      "(1.5567209351351015, 2)\n",
      "Wall time: 0 ns\n"
     ]
    }
   ],
   "source": [
    "%%time\n",
    "print(Newton(f, dfdx, 1))"
   ]
  },
  {
   "cell_type": "code",
   "execution_count": 76,
   "metadata": {},
   "outputs": [
    {
     "name": "stdout",
     "output_type": "stream",
     "text": [
      "(1.5000000249800194, 1)\n",
      "Wall time: 0 ns\n"
     ]
    }
   ],
   "source": [
    "%%time\n",
    "print(Secant(f, 1))"
   ]
  },
  {
   "cell_type": "markdown",
   "metadata": {},
   "source": [
    "Довольно низкая точность, можно попробвоать изменить начальные параметры"
   ]
  },
  {
   "cell_type": "code",
   "execution_count": 86,
   "metadata": {},
   "outputs": [
    {
     "name": "stdout",
     "output_type": "stream",
     "text": [
      "(1.5379018717602126, 1)\n",
      "Wall time: 0 ns\n"
     ]
    }
   ],
   "source": [
    "%%time\n",
    "print(Secant(f, 2))"
   ]
  },
  {
   "cell_type": "code",
   "execution_count": 87,
   "metadata": {},
   "outputs": [
    {
     "name": "stdout",
     "output_type": "stream",
     "text": [
      "(1.5576171875, 12)\n",
      "Wall time: 0 ns\n"
     ]
    },
    {
     "name": "stderr",
     "output_type": "stream",
     "text": [
      "D:\\Programs\\Anaconda\\lib\\site-packages\\ipykernel_launcher.py:7: ComplexWarning: Casting complex values to real discards the imaginary part\n",
      "  import sys\n",
      "D:\\Programs\\Anaconda\\lib\\site-packages\\numpy\\lib\\scimath.py:274: RuntimeWarning: divide by zero encountered in log\n",
      "  return nx.log(x)\n"
     ]
    }
   ],
   "source": [
    "%%time\n",
    "print(Bisection(f, -2, 2))"
   ]
  }
 ],
 "metadata": {
  "kernelspec": {
   "display_name": "Python 3",
   "language": "python",
   "name": "python3"
  },
  "language_info": {
   "codemirror_mode": {
    "name": "ipython",
    "version": 3
   },
   "file_extension": ".py",
   "mimetype": "text/x-python",
   "name": "python",
   "nbconvert_exporter": "python",
   "pygments_lexer": "ipython3",
   "version": "3.7.3"
  }
 },
 "nbformat": 4,
 "nbformat_minor": 2
}

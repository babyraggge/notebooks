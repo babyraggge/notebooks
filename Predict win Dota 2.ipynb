{
 "cells": [
  {
   "cell_type": "markdown",
   "metadata": {},
   "source": [
    "# Предсказания победителя в онлайн-игре Dota 2"
   ]
  },
  {
   "cell_type": "markdown",
   "metadata": {},
   "source": [
    "Организуем загрузку обучающих данных в датафрейм; в качестве индекса будет выступать колонка 'match_id':"
   ]
  },
  {
   "cell_type": "code",
   "execution_count": 1,
   "metadata": {},
   "outputs": [],
   "source": [
    "import numpy as np\n",
    "import pandas as pd\n",
    "import matplotlib.pyplot as plt\n",
    "\n",
    "import time\n",
    "import datetime\n",
    "\n",
    "from sklearn.model_selection import KFold\n",
    "from sklearn.model_selection import cross_val_score\n",
    "\n",
    "from sklearn.ensemble import GradientBoostingClassifier\n",
    "from sklearn.linear_model import LogisticRegression\n",
    "\n",
    "from sklearn.metrics import roc_auc_score\n",
    "\n",
    "from sklearn.preprocessing import StandardScaler"
   ]
  },
  {
   "cell_type": "code",
   "execution_count": 2,
   "metadata": {},
   "outputs": [
    {
     "name": "stdout",
     "output_type": "stream",
     "text": [
      "(97230, 108)\n"
     ]
    },
    {
     "data": {
      "text/html": [
       "<div>\n",
       "<style scoped>\n",
       "    .dataframe tbody tr th:only-of-type {\n",
       "        vertical-align: middle;\n",
       "    }\n",
       "\n",
       "    .dataframe tbody tr th {\n",
       "        vertical-align: top;\n",
       "    }\n",
       "\n",
       "    .dataframe thead th {\n",
       "        text-align: right;\n",
       "    }\n",
       "</style>\n",
       "<table border=\"1\" class=\"dataframe\">\n",
       "  <thead>\n",
       "    <tr style=\"text-align: right;\">\n",
       "      <th></th>\n",
       "      <th>start_time</th>\n",
       "      <th>lobby_type</th>\n",
       "      <th>r1_hero</th>\n",
       "      <th>r1_level</th>\n",
       "      <th>r1_xp</th>\n",
       "      <th>r1_gold</th>\n",
       "      <th>r1_lh</th>\n",
       "      <th>r1_kills</th>\n",
       "      <th>r1_deaths</th>\n",
       "      <th>r1_items</th>\n",
       "      <th>...</th>\n",
       "      <th>dire_boots_count</th>\n",
       "      <th>dire_ward_observer_count</th>\n",
       "      <th>dire_ward_sentry_count</th>\n",
       "      <th>dire_first_ward_time</th>\n",
       "      <th>duration</th>\n",
       "      <th>radiant_win</th>\n",
       "      <th>tower_status_radiant</th>\n",
       "      <th>tower_status_dire</th>\n",
       "      <th>barracks_status_radiant</th>\n",
       "      <th>barracks_status_dire</th>\n",
       "    </tr>\n",
       "    <tr>\n",
       "      <th>match_id</th>\n",
       "      <th></th>\n",
       "      <th></th>\n",
       "      <th></th>\n",
       "      <th></th>\n",
       "      <th></th>\n",
       "      <th></th>\n",
       "      <th></th>\n",
       "      <th></th>\n",
       "      <th></th>\n",
       "      <th></th>\n",
       "      <th></th>\n",
       "      <th></th>\n",
       "      <th></th>\n",
       "      <th></th>\n",
       "      <th></th>\n",
       "      <th></th>\n",
       "      <th></th>\n",
       "      <th></th>\n",
       "      <th></th>\n",
       "      <th></th>\n",
       "      <th></th>\n",
       "    </tr>\n",
       "  </thead>\n",
       "  <tbody>\n",
       "    <tr>\n",
       "      <th>0</th>\n",
       "      <td>1430198770</td>\n",
       "      <td>7</td>\n",
       "      <td>11</td>\n",
       "      <td>5</td>\n",
       "      <td>2098</td>\n",
       "      <td>1489</td>\n",
       "      <td>20</td>\n",
       "      <td>0</td>\n",
       "      <td>0</td>\n",
       "      <td>7</td>\n",
       "      <td>...</td>\n",
       "      <td>4</td>\n",
       "      <td>2</td>\n",
       "      <td>2</td>\n",
       "      <td>-52.0</td>\n",
       "      <td>2874</td>\n",
       "      <td>1</td>\n",
       "      <td>1796</td>\n",
       "      <td>0</td>\n",
       "      <td>51</td>\n",
       "      <td>0</td>\n",
       "    </tr>\n",
       "    <tr>\n",
       "      <th>1</th>\n",
       "      <td>1430220345</td>\n",
       "      <td>0</td>\n",
       "      <td>42</td>\n",
       "      <td>4</td>\n",
       "      <td>1188</td>\n",
       "      <td>1033</td>\n",
       "      <td>9</td>\n",
       "      <td>0</td>\n",
       "      <td>1</td>\n",
       "      <td>12</td>\n",
       "      <td>...</td>\n",
       "      <td>4</td>\n",
       "      <td>3</td>\n",
       "      <td>1</td>\n",
       "      <td>-5.0</td>\n",
       "      <td>2463</td>\n",
       "      <td>1</td>\n",
       "      <td>1974</td>\n",
       "      <td>0</td>\n",
       "      <td>63</td>\n",
       "      <td>1</td>\n",
       "    </tr>\n",
       "    <tr>\n",
       "      <th>2</th>\n",
       "      <td>1430227081</td>\n",
       "      <td>7</td>\n",
       "      <td>33</td>\n",
       "      <td>4</td>\n",
       "      <td>1319</td>\n",
       "      <td>1270</td>\n",
       "      <td>22</td>\n",
       "      <td>0</td>\n",
       "      <td>0</td>\n",
       "      <td>12</td>\n",
       "      <td>...</td>\n",
       "      <td>4</td>\n",
       "      <td>3</td>\n",
       "      <td>1</td>\n",
       "      <td>13.0</td>\n",
       "      <td>2130</td>\n",
       "      <td>0</td>\n",
       "      <td>0</td>\n",
       "      <td>1830</td>\n",
       "      <td>0</td>\n",
       "      <td>63</td>\n",
       "    </tr>\n",
       "    <tr>\n",
       "      <th>3</th>\n",
       "      <td>1430263531</td>\n",
       "      <td>1</td>\n",
       "      <td>29</td>\n",
       "      <td>4</td>\n",
       "      <td>1779</td>\n",
       "      <td>1056</td>\n",
       "      <td>14</td>\n",
       "      <td>0</td>\n",
       "      <td>0</td>\n",
       "      <td>5</td>\n",
       "      <td>...</td>\n",
       "      <td>4</td>\n",
       "      <td>2</td>\n",
       "      <td>0</td>\n",
       "      <td>27.0</td>\n",
       "      <td>1459</td>\n",
       "      <td>0</td>\n",
       "      <td>1920</td>\n",
       "      <td>2047</td>\n",
       "      <td>50</td>\n",
       "      <td>63</td>\n",
       "    </tr>\n",
       "    <tr>\n",
       "      <th>4</th>\n",
       "      <td>1430282290</td>\n",
       "      <td>7</td>\n",
       "      <td>13</td>\n",
       "      <td>4</td>\n",
       "      <td>1431</td>\n",
       "      <td>1090</td>\n",
       "      <td>8</td>\n",
       "      <td>1</td>\n",
       "      <td>0</td>\n",
       "      <td>8</td>\n",
       "      <td>...</td>\n",
       "      <td>3</td>\n",
       "      <td>3</td>\n",
       "      <td>0</td>\n",
       "      <td>-16.0</td>\n",
       "      <td>2449</td>\n",
       "      <td>0</td>\n",
       "      <td>4</td>\n",
       "      <td>1974</td>\n",
       "      <td>3</td>\n",
       "      <td>63</td>\n",
       "    </tr>\n",
       "  </tbody>\n",
       "</table>\n",
       "<p>5 rows × 108 columns</p>\n",
       "</div>"
      ],
      "text/plain": [
       "          start_time  lobby_type  r1_hero  r1_level  r1_xp  r1_gold  r1_lh  \\\n",
       "match_id                                                                     \n",
       "0         1430198770           7       11         5   2098     1489     20   \n",
       "1         1430220345           0       42         4   1188     1033      9   \n",
       "2         1430227081           7       33         4   1319     1270     22   \n",
       "3         1430263531           1       29         4   1779     1056     14   \n",
       "4         1430282290           7       13         4   1431     1090      8   \n",
       "\n",
       "          r1_kills  r1_deaths  r1_items  ...  dire_boots_count  \\\n",
       "match_id                                 ...                     \n",
       "0                0          0         7  ...                 4   \n",
       "1                0          1        12  ...                 4   \n",
       "2                0          0        12  ...                 4   \n",
       "3                0          0         5  ...                 4   \n",
       "4                1          0         8  ...                 3   \n",
       "\n",
       "          dire_ward_observer_count  dire_ward_sentry_count  \\\n",
       "match_id                                                     \n",
       "0                                2                       2   \n",
       "1                                3                       1   \n",
       "2                                3                       1   \n",
       "3                                2                       0   \n",
       "4                                3                       0   \n",
       "\n",
       "          dire_first_ward_time  duration  radiant_win  tower_status_radiant  \\\n",
       "match_id                                                                      \n",
       "0                        -52.0      2874            1                  1796   \n",
       "1                         -5.0      2463            1                  1974   \n",
       "2                         13.0      2130            0                     0   \n",
       "3                         27.0      1459            0                  1920   \n",
       "4                        -16.0      2449            0                     4   \n",
       "\n",
       "          tower_status_dire  barracks_status_radiant  barracks_status_dire  \n",
       "match_id                                                                    \n",
       "0                         0                       51                     0  \n",
       "1                         0                       63                     1  \n",
       "2                      1830                        0                    63  \n",
       "3                      2047                       50                    63  \n",
       "4                      1974                        3                    63  \n",
       "\n",
       "[5 rows x 108 columns]"
      ]
     },
     "execution_count": 2,
     "metadata": {},
     "output_type": "execute_result"
    }
   ],
   "source": [
    "features = pd.read_csv('D:/Downloads/features.csv', index_col='match_id')\n",
    "print(features.shape)\n",
    "features.head()"
   ]
  },
  {
   "cell_type": "markdown",
   "metadata": {},
   "source": [
    "Считаем количество пропущенных значений для каждого признака"
   ]
  },
  {
   "cell_type": "code",
   "execution_count": 3,
   "metadata": {},
   "outputs": [
    {
     "data": {
      "image/png": "[encoded data removed]",
      "text/plain": [
       "<Figure size 1080x576 with 1 Axes>"
      ]
     },
     "metadata": {
      "needs_background": "light"
     },
     "output_type": "display_data"
    }
   ],
   "source": [
    "null_features = features.isnull().sum()\n",
    "null_features = null_features[null_features > 0].sort_values(ascending=False)\n",
    "null_features.plot.barh(figsize=(15,8));"
   ]
  },
  {
   "cell_type": "markdown",
   "metadata": {},
   "source": [
    "В нашем наборе данных имеется 12 призаков, которые имеют пустые значения. Больше всего пропусков связано с событиями \"первая кровь\" (first blood) и временем приобретения предмета \"courier\"/\"flying_courier\".\n",
    "\n",
    "Очевидно, что значения пропущенны по причине того, что в некоторых матчачх событие \"первая кровь\" наступила после пятой минуты, \"flying_courier\" был приобретен так же позднее 5 минуты."
   ]
  },
  {
   "cell_type": "code",
   "execution_count": 4,
   "metadata": {},
   "outputs": [],
   "source": [
    "features.fillna(0, inplace=True)"
   ]
  },
  {
   "cell_type": "code",
   "execution_count": 5,
   "metadata": {},
   "outputs": [
    {
     "data": {
      "text/plain": [
       "Index(['start_time', 'lobby_type', 'r1_hero', 'r1_level', 'r1_xp', 'r1_gold',\n",
       "       'r1_lh', 'r1_kills', 'r1_deaths', 'r1_items',\n",
       "       ...\n",
       "       'dire_boots_count', 'dire_ward_observer_count',\n",
       "       'dire_ward_sentry_count', 'dire_first_ward_time', 'duration',\n",
       "       'radiant_win', 'tower_status_radiant', 'tower_status_dire',\n",
       "       'barracks_status_radiant', 'barracks_status_dire'],\n",
       "      dtype='object', length=108)"
      ]
     },
     "execution_count": 5,
     "metadata": {},
     "output_type": "execute_result"
    }
   ],
   "source": [
    "future_feature = [\n",
    "    'duration',\n",
    "    'radiant_win', \n",
    "    'tower_status_radiant', \n",
    "    'tower_status_dire',\n",
    "    'barracks_status_radiant', \n",
    "    'barracks_status_dire'\n",
    "]\n",
    "\n",
    "features.columns"
   ]
  },
  {
   "cell_type": "code",
   "execution_count": 6,
   "metadata": {},
   "outputs": [],
   "source": [
    "labels = features['radiant_win']\n",
    "data = features.drop(future_feature, axis=1)"
   ]
  },
  {
   "cell_type": "markdown",
   "metadata": {},
   "source": [
    "В качестве целевой переменной будет выступать признак 'radiant_win'(1, если победила команда Radiant, 0 — иначе). Кроме того, необходимо удалить признаки, которые относятся к итогам матча, так как они будут отсутсвовать в тестовом наборе данных"
   ]
  },
  {
   "cell_type": "markdown",
   "metadata": {},
   "source": [
    "## Градиентный бустинг"
   ]
  },
  {
   "cell_type": "code",
   "execution_count": 7,
   "metadata": {},
   "outputs": [
    {
     "name": "stdout",
     "output_type": "stream",
     "text": [
      "Time elapsed for 10 estimators: 0:00:08.518927\n",
      "Score GB:  [0.66383799 0.66635457 0.66360048 0.66529818 0.66516222]\n",
      "Time elapsed for 20 estimators: 0:00:13.490606\n",
      "Score GB:  [0.68083889 0.68272733 0.67969876 0.6834932  0.6855512 ]\n",
      "Time elapsed for 30 estimators: 0:00:19.374459\n",
      "Score GB:  [0.68892093 0.68934663 0.68712298 0.69180598 0.69283583]\n"
     ]
    }
   ],
   "source": [
    "fold = KFold(shuffle=True, n_splits=5, random_state=42)\n",
    "scores_gb = []\n",
    "\n",
    "N = [10, 20, 30, 50, 100, 150, 200]\n",
    "\n",
    "for n in N[:3]:\n",
    "    gb_model = GradientBoostingClassifier(n_estimators=n)\n",
    "    \n",
    "    start_time = datetime.datetime.now()\n",
    "    score_gb = cross_val_score(gb_model, data, labels, cv=fold, scoring='roc_auc', n_jobs=-1)\n",
    "    \n",
    "    scores_gb.append(score_gb.mean())\n",
    "   \n",
    "    print('Time elapsed for {0} estimators: {1}'.format(n, datetime.datetime.now() - start_time))\n",
    "    print('Score GB: ', score_gb)\n",
    "    "
   ]
  },
  {
   "cell_type": "code",
   "execution_count": 9,
   "metadata": {},
   "outputs": [
    {
     "data": {
      "text/plain": [
       "Text(0, 0.5, 'Mean cross_val_score')"
      ]
     },
     "execution_count": 9,
     "metadata": {},
     "output_type": "execute_result"
    },
    {
     "data": {
      "image/png": "[encoded data removed]",
      "text/plain": [
       "<Figure size 432x288 with 1 Axes>"
      ]
     },
     "metadata": {
      "needs_background": "light"
     },
     "output_type": "display_data"
    }
   ],
   "source": [
    "plt.plot(N[:3], scores_gb, marker='o')\n",
    "plt.title('Изменение качества модели')\n",
    "plt.xlabel('n_estimators')\n",
    "plt.ylabel('Mean cross_val_score')"
   ]
  },
  {
   "cell_type": "markdown",
   "metadata": {},
   "source": [
    "На графике видно, что дальнейшее увеличение числа деревьев может повысить качество модели. Имеет смысл продолжить увеличивать количество деревьев. Время обучения для 30 деревьев составило 18 секунд, при услвоии использования всех ресурсов процессора. Возможно имеет смысл уменьшить глубину деревьев до 2 для увеличения скорости обучения. "
   ]
  },
  {
   "cell_type": "code",
   "execution_count": 10,
   "metadata": {},
   "outputs": [
    {
     "name": "stdout",
     "output_type": "stream",
     "text": [
      "Time elapsed for 50 estimators: 0:00:17.322727\n",
      "Score GB:  [0.69005448 0.69094812 0.688467   0.69265148 0.69486188]\n",
      "Time elapsed for 100 estimators: 0:00:35.337858\n",
      "Score GB:  [0.69952527 0.70086478 0.69861939 0.70326991 0.7036773 ]\n",
      "Time elapsed for 150 estimators: 0:00:52.333212\n",
      "Score GB:  [0.70424295 0.70622264 0.70368195 0.7077047  0.70897641]\n",
      "Time elapsed for 200 estimators: 0:01:06.815250\n",
      "Score GB:  [0.70746568 0.70901004 0.70667922 0.71055424 0.71142795]\n"
     ]
    }
   ],
   "source": [
    "for n in N[3:]:\n",
    "    gb_model = GradientBoostingClassifier(n_estimators=n, max_depth=2, random_state=42)\n",
    "    \n",
    "    start_time = datetime.datetime.now()\n",
    "    score_gb = cross_val_score(gb_model, data, labels, cv=fold, scoring='roc_auc', n_jobs=-1)\n",
    "    \n",
    "    scores_gb.append(score_gb.mean())\n",
    "   \n",
    "    print('Time elapsed for {0} estimators: {1}'.format(n, datetime.datetime.now() - start_time))\n",
    "    print('Score GB: ', score_gb)    "
   ]
  },
  {
   "cell_type": "code",
   "execution_count": 11,
   "metadata": {},
   "outputs": [
    {
     "data": {
      "text/plain": [
       "Text(0, 0.5, 'Mean cross_val_score')"
      ]
     },
     "execution_count": 11,
     "metadata": {},
     "output_type": "execute_result"
    },
    {
     "data": {
      "image/png": "[encoded data removed]",
      "text/plain": [
       "<Figure size 432x288 with 1 Axes>"
      ]
     },
     "metadata": {
      "needs_background": "light"
     },
     "output_type": "display_data"
    }
   ],
   "source": [
    "plt.plot(N, scores_gb, marker='o')\n",
    "plt.title('Изменение качества модели')\n",
    "plt.xlabel('n_estimators')\n",
    "plt.ylabel('Mean cross_val_score')"
   ]
  },
  {
   "cell_type": "markdown",
   "metadata": {},
   "source": [
    "## Логистическая регрессия"
   ]
  },
  {
   "cell_type": "code",
   "execution_count": 12,
   "metadata": {},
   "outputs": [
    {
     "name": "stderr",
     "output_type": "stream",
     "text": [
      "D:\\Programs\\Anaconda\\lib\\site-packages\\sklearn\\preprocessing\\data.py:645: DataConversionWarning: Data with input dtype int64, float64 were all converted to float64 by StandardScaler.\n",
      "  return self.partial_fit(X, y)\n",
      "D:\\Programs\\Anaconda\\lib\\site-packages\\sklearn\\base.py:464: DataConversionWarning: Data with input dtype int64, float64 were all converted to float64 by StandardScaler.\n",
      "  return self.fit(X, **fit_params).transform(X)\n"
     ]
    }
   ],
   "source": [
    "scaler = StandardScaler()\n",
    "\n",
    "data_scaled = scaler.fit_transform(data)"
   ]
  },
  {
   "cell_type": "code",
   "execution_count": 13,
   "metadata": {},
   "outputs": [
    {
     "name": "stdout",
     "output_type": "stream",
     "text": [
      "Time elapsed for c = 0.001 : 0:00:03.442253\n",
      "Score LR:  [0.71449541 0.71577214 0.71625974 0.71697301 0.71831738]\n",
      "Time elapsed for c = 0.01 : 0:00:04.003916\n",
      "Score LR:  [0.71464598 0.71617915 0.71624749 0.71735041 0.71832832]\n",
      "Time elapsed for c = 0.1 : 0:00:04.460349\n",
      "Score LR:  [0.71462192 0.71617479 0.71619187 0.71737596 0.7182712 ]\n",
      "Time elapsed for c = 1 : 0:00:04.378130\n",
      "Score LR:  [0.71461815 0.71617185 0.71618338 0.7173762  0.71826341]\n",
      "Time elapsed for c = 10 : 0:00:04.435749\n",
      "Score LR:  [0.71461695 0.71617179 0.71618281 0.71737669 0.7182632 ]\n",
      "Time elapsed for c = 100 : 0:00:04.373598\n",
      "Score LR:  [0.71461692 0.71617206 0.71618249 0.71737655 0.71826345]\n",
      "Time elapsed for c = 1000 : 0:00:04.478067\n",
      "Score LR:  [0.71461693 0.71617214 0.7161825  0.71737659 0.71826346]\n"
     ]
    }
   ],
   "source": [
    "scores_lr = []\n",
    "\n",
    "C = [10**i for i in range(-3,4)]\n",
    "\n",
    "for c in C:\n",
    "    lr_model = LogisticRegression(C=c, random_state=42)\n",
    "    \n",
    "    start_time = datetime.datetime.now()\n",
    "    score_lr = cross_val_score(lr_model, data_scaled, labels, cv=fold, scoring='roc_auc', n_jobs=-1)\n",
    "    \n",
    "    scores_lr.append(score_lr.mean())\n",
    "   \n",
    "    print('Time elapsed for c = {0} : {1}'.format(c, datetime.datetime.now() - start_time))\n",
    "    print('Score LR: ', score_lr)"
   ]
  },
  {
   "cell_type": "code",
   "execution_count": 14,
   "metadata": {},
   "outputs": [
    {
     "data": {
      "text/plain": [
       "Text(0, 0.5, 'Mean cross_val_score')"
      ]
     },
     "execution_count": 14,
     "metadata": {},
     "output_type": "execute_result"
    },
    {
     "data": {
      "image/png": "[encoded data removed]",
      "text/plain": [
       "<Figure size 432x288 with 1 Axes>"
      ]
     },
     "metadata": {
      "needs_background": "light"
     },
     "output_type": "display_data"
    }
   ],
   "source": [
    "plt.xscale('log')\n",
    "plt.plot(C, scores_lr, marker='o')\n",
    "plt.title('Изменение качества модели логистической регрессии')\n",
    "plt.xlabel('C')\n",
    "plt.ylabel('Mean cross_val_score')"
   ]
  },
  {
   "cell_type": "markdown",
   "metadata": {},
   "source": [
    "На графике видно, что максимум качества на кросс валидации достигается при кофициенте регуляризации равном 10^-2. При этом качество данной модели сопостивимо с качеством модели градиентного бустинга с большим числом деревьев. Скорость обучения при этом в 17 раз выше. "
   ]
  },
  {
   "cell_type": "code",
   "execution_count": 15,
   "metadata": {},
   "outputs": [
    {
     "name": "stdout",
     "output_type": "stream",
     "text": [
      "['lobby_type', 'r1_hero', 'r2_hero', 'r3_hero', 'r4_hero', 'r5_hero', 'd1_hero', 'd2_hero', 'd3_hero', 'd4_hero', 'd5_hero']\n"
     ]
    }
   ],
   "source": [
    "cat_features = ['lobby_type']\n",
    "for team in ['r', 'd']:\n",
    "    for player in range(1,6):\n",
    "        cat_features.append('{0}{1}_hero'.format(team, str(player)))\n",
    "\n",
    "print(cat_features)"
   ]
  },
  {
   "cell_type": "code",
   "execution_count": 16,
   "metadata": {},
   "outputs": [
    {
     "name": "stderr",
     "output_type": "stream",
     "text": [
      "D:\\Programs\\Anaconda\\lib\\site-packages\\sklearn\\preprocessing\\data.py:645: DataConversionWarning: Data with input dtype int64, float64 were all converted to float64 by StandardScaler.\n",
      "  return self.partial_fit(X, y)\n",
      "D:\\Programs\\Anaconda\\lib\\site-packages\\sklearn\\base.py:464: DataConversionWarning: Data with input dtype int64, float64 were all converted to float64 by StandardScaler.\n",
      "  return self.fit(X, **fit_params).transform(X)\n"
     ]
    }
   ],
   "source": [
    "data_no_cat = data.drop(cat_features, axis=1)\n",
    "data_no_cat = scaler.fit_transform(data_no_cat)"
   ]
  },
  {
   "cell_type": "code",
   "execution_count": 17,
   "metadata": {},
   "outputs": [
    {
     "data": {
      "text/plain": [
       "0.7165593885630225"
      ]
     },
     "execution_count": 17,
     "metadata": {},
     "output_type": "execute_result"
    }
   ],
   "source": [
    "lr_model = LogisticRegression(C=0.01, random_state=42)\n",
    "cross_val_score(lr_model, data_no_cat, labels, cv=fold, scoring='roc_auc', n_jobs=-1).mean()"
   ]
  },
  {
   "cell_type": "markdown",
   "metadata": {},
   "source": [
    "Удаление категориальных признаков никак не отразилось на качестве модели. Возможно, это связано с тем, что после маштабирования признаки практически не отличаются друг от друга и им назначаются небольшие весовые коофициенты."
   ]
  },
  {
   "cell_type": "code",
   "execution_count": 18,
   "metadata": {},
   "outputs": [
    {
     "name": "stderr",
     "output_type": "stream",
     "text": [
      "D:\\Programs\\Anaconda\\lib\\site-packages\\sklearn\\linear_model\\logistic.py:433: FutureWarning: Default solver will be changed to 'lbfgs' in 0.22. Specify a solver to silence this warning.\n",
      "  FutureWarning)\n"
     ]
    },
    {
     "data": {
      "text/plain": [
       "LogisticRegression(C=0.01, class_weight=None, dual=False, fit_intercept=True,\n",
       "          intercept_scaling=1, max_iter=100, multi_class='warn',\n",
       "          n_jobs=None, penalty='l2', random_state=42, solver='warn',\n",
       "          tol=0.0001, verbose=0, warm_start=False)"
      ]
     },
     "execution_count": 18,
     "metadata": {},
     "output_type": "execute_result"
    }
   ],
   "source": [
    "lr_model = LogisticRegression(C=0.01, random_state=42)\n",
    "lr_model.fit(data_scaled, labels)"
   ]
  },
  {
   "cell_type": "code",
   "execution_count": 19,
   "metadata": {},
   "outputs": [
    {
     "data": {
      "text/html": [
       "<div>\n",
       "<style scoped>\n",
       "    .dataframe tbody tr th:only-of-type {\n",
       "        vertical-align: middle;\n",
       "    }\n",
       "\n",
       "    .dataframe tbody tr th {\n",
       "        vertical-align: top;\n",
       "    }\n",
       "\n",
       "    .dataframe thead th {\n",
       "        text-align: right;\n",
       "    }\n",
       "</style>\n",
       "<table border=\"1\" class=\"dataframe\">\n",
       "  <thead>\n",
       "    <tr style=\"text-align: right;\">\n",
       "      <th></th>\n",
       "      <th>coef</th>\n",
       "    </tr>\n",
       "  </thead>\n",
       "  <tbody>\n",
       "    <tr>\n",
       "      <th>lobby_type</th>\n",
       "      <td>-0.005201</td>\n",
       "    </tr>\n",
       "    <tr>\n",
       "      <th>r1_hero</th>\n",
       "      <td>0.005502</td>\n",
       "    </tr>\n",
       "    <tr>\n",
       "      <th>r2_hero</th>\n",
       "      <td>-0.019787</td>\n",
       "    </tr>\n",
       "    <tr>\n",
       "      <th>r3_hero</th>\n",
       "      <td>0.002084</td>\n",
       "    </tr>\n",
       "    <tr>\n",
       "      <th>r4_hero</th>\n",
       "      <td>0.002415</td>\n",
       "    </tr>\n",
       "    <tr>\n",
       "      <th>r5_hero</th>\n",
       "      <td>-0.011294</td>\n",
       "    </tr>\n",
       "    <tr>\n",
       "      <th>d1_hero</th>\n",
       "      <td>0.000127</td>\n",
       "    </tr>\n",
       "    <tr>\n",
       "      <th>d2_hero</th>\n",
       "      <td>0.002674</td>\n",
       "    </tr>\n",
       "    <tr>\n",
       "      <th>d3_hero</th>\n",
       "      <td>-0.003449</td>\n",
       "    </tr>\n",
       "    <tr>\n",
       "      <th>d4_hero</th>\n",
       "      <td>0.006456</td>\n",
       "    </tr>\n",
       "    <tr>\n",
       "      <th>d5_hero</th>\n",
       "      <td>0.004195</td>\n",
       "    </tr>\n",
       "  </tbody>\n",
       "</table>\n",
       "</div>"
      ],
      "text/plain": [
       "                coef\n",
       "lobby_type -0.005201\n",
       "r1_hero     0.005502\n",
       "r2_hero    -0.019787\n",
       "r3_hero     0.002084\n",
       "r4_hero     0.002415\n",
       "r5_hero    -0.011294\n",
       "d1_hero     0.000127\n",
       "d2_hero     0.002674\n",
       "d3_hero    -0.003449\n",
       "d4_hero     0.006456\n",
       "d5_hero     0.004195"
      ]
     },
     "execution_count": 19,
     "metadata": {},
     "output_type": "execute_result"
    }
   ],
   "source": [
    "coef_df = pd.DataFrame(lr_model.coef_[0], index=data.columns, columns=['coef'])\n",
    "coef_df.loc[pd.Index(cat_features)]"
   ]
  },
  {
   "cell_type": "markdown",
   "metadata": {},
   "source": [
    "Действительно, эти коэффициенты очень малы"
   ]
  },
  {
   "cell_type": "code",
   "execution_count": 36,
   "metadata": {},
   "outputs": [
    {
     "name": "stdout",
     "output_type": "stream",
     "text": [
      "r1_hero : 108 | max id: 112\n",
      "r2_hero : 108 | max id: 112\n",
      "r3_hero : 108 | max id: 112\n",
      "r4_hero : 108 | max id: 112\n",
      "r5_hero : 108 | max id: 112\n",
      "d1_hero : 108 | max id: 112\n",
      "d2_hero : 108 | max id: 112\n",
      "d3_hero : 108 | max id: 112\n",
      "d4_hero : 108 | max id: 112\n",
      "d5_hero : 108 | max id: 112\n"
     ]
    }
   ],
   "source": [
    "for feature in cat_features:\n",
    "    print('{0} : {1} | max id: {2}'.format(feature, data[feature].nunique(), data[feature].unique().max()))"
   ]
  },
  {
   "cell_type": "markdown",
   "metadata": {},
   "source": [
    "Все признаки, за исключесним признака 'lobby type' имеют длину 108, что соответствует количеству уникальных героев. Далее имеет смысл получить эти идентификаторы. Кроме того, наиболешее значение id героя не соответсвует числу 108: на это нужно будет обратитья внимание."
   ]
  },
  {
   "cell_type": "code",
   "execution_count": 21,
   "metadata": {},
   "outputs": [],
   "source": [
    "cat_features.remove('lobby_type')"
   ]
  },
  {
   "cell_type": "code",
   "execution_count": 22,
   "metadata": {
    "scrolled": false
   },
   "outputs": [
    {
     "name": "stdout",
     "output_type": "stream",
     "text": [
      "id героя : [ 11  42  33  29  13   8  35  17  15  22  27  68  26  53  20  92  88 104\n",
      "   3  73  72 110  36  58  91  50  71  30  25  39  19 101  94  51   7  75\n",
      "  46  66  67  93  38  65  12  99  44  10  41  34 102  32  95  84  81  16\n",
      "   6  96  43  79  47   1   2  63  97  80  54  83   5  60  77 112  21  69\n",
      "  85  82  87  62  18  74  28  61  14  90  70  78  52  48  49   4  98  59\n",
      "  56  86  37 100  23  57 106  40   9  76  31  64 109 103  55 105  89  45]\n",
      "--------------------------------------------------------------------------------------------------------------\n"
     ]
    },
    {
     "data": {
      "image/png": "[encoded data removed]",
      "text/plain": [
       "<Figure size 1440x2880 with 5 Axes>"
      ]
     },
     "metadata": {},
     "output_type": "display_data"
    }
   ],
   "source": [
    "fig, axes = plt.subplots(5,1, figsize=(18, 36), dpi= 80, facecolor='w', edgecolor='k')\n",
    "\n",
    "radiant = cat_features[:5]\n",
    "dier = cat_features[5:]\n",
    "\n",
    "for ax, r, d in zip(axes.flat, radiant, dier):\n",
    "    ax.bar(data[r].value_counts().index - 0.2, data[r].value_counts().values, \n",
    "           label = r, \n",
    "           width = 0.4)\n",
    "    ax.bar(data[d].value_counts().index + 0.2, data[d].value_counts().values, \n",
    "           label = d,\n",
    "           width = 0.4)\n",
    "    \n",
    "    ax.set(title='{0} and {1}'.format(r, d))\n",
    "    ax.legend()\n",
    "\n",
    "print('id героя :', data['r1_hero'].unique())\n",
    "print('-'*110)\n",
    "\n",
    "plt.show()"
   ]
  },
  {
   "cell_type": "markdown",
   "metadata": {},
   "source": [
    "Из данных графиков можно сделать вывод, что в зависимости от стороны, игроки чаще выбирают некоторых героев."
   ]
  },
  {
   "cell_type": "code",
   "execution_count": 77,
   "metadata": {},
   "outputs": [],
   "source": [
    "def hero_coder(data):\n",
    "\n",
    "    X_pick = np.zeros((data.shape[0], 113))\n",
    "\n",
    "    for i, match_id in enumerate(data.index):\n",
    "        for p in range(1, 6):\n",
    "            X_pick[i, data.loc[match_id, 'r%d_hero' % (p)]] = 1\n",
    "            X_pick[i, data.loc[match_id, 'd%d_hero' % (p)]] = -1\n",
    "            \n",
    "    return X_pick"
   ]
  },
  {
   "cell_type": "code",
   "execution_count": 78,
   "metadata": {},
   "outputs": [],
   "source": [
    "X_pick = hero_coder(data)"
   ]
  },
  {
   "cell_type": "code",
   "execution_count": 79,
   "metadata": {},
   "outputs": [
    {
     "data": {
      "text/plain": [
       "(97230, 113)"
      ]
     },
     "execution_count": 79,
     "metadata": {},
     "output_type": "execute_result"
    }
   ],
   "source": [
    "X_pick.shape"
   ]
  },
  {
   "cell_type": "markdown",
   "metadata": {},
   "source": [
    "Данная матрица имеет 113 столбцов которые соответсвуют id героя. Несмотря на то, что героев 108 и номер героя не совпадает с его id в некоторых местах, будем использовать именно такие данные для удобства."
   ]
  },
  {
   "cell_type": "code",
   "execution_count": 80,
   "metadata": {},
   "outputs": [],
   "source": [
    "X_pick = scaler.fit_transform(X_pick)"
   ]
  },
  {
   "cell_type": "code",
   "execution_count": 81,
   "metadata": {},
   "outputs": [],
   "source": [
    "X = np.concatenate((data_no_cat, X_pick), axis=1)"
   ]
  },
  {
   "cell_type": "code",
   "execution_count": 84,
   "metadata": {},
   "outputs": [
    {
     "data": {
      "text/plain": [
       "(97230, 91)"
      ]
     },
     "execution_count": 84,
     "metadata": {},
     "output_type": "execute_result"
    }
   ],
   "source": [
    "data_no_cat.shape"
   ]
  },
  {
   "cell_type": "code",
   "execution_count": 50,
   "metadata": {},
   "outputs": [
    {
     "name": "stdout",
     "output_type": "stream",
     "text": [
      "Time elapsed for c = 0.001 : 0:00:08.546581\n",
      "Score LR:  [0.74886777 0.75231215 0.74942961 0.7557793  0.7516747 ]\n",
      "Time elapsed for c = 0.01 : 0:00:08.390902\n",
      "Score LR:  [0.74934397 0.75315468 0.7495552  0.75609852 0.75166785]\n",
      "Time elapsed for c = 0.1 : 0:00:08.168233\n",
      "Score LR:  [0.74935103 0.7531731  0.74950394 0.75603359 0.75158849]\n",
      "Time elapsed for c = 1 : 0:00:08.180083\n",
      "Score LR:  [0.74934837 0.75317171 0.74949795 0.75602694 0.75158058]\n",
      "Time elapsed for c = 10 : 0:00:08.274207\n",
      "Score LR:  [0.74934869 0.75317207 0.74949823 0.75602538 0.75157939]\n",
      "Time elapsed for c = 100 : 0:00:07.779174\n",
      "Score LR:  [0.74934846 0.75317182 0.74949812 0.75602545 0.75157917]\n",
      "Time elapsed for c = 1000 : 0:00:07.726674\n",
      "Score LR:  [0.74934847 0.75317178 0.74949808 0.75602537 0.75157923]\n"
     ]
    }
   ],
   "source": [
    "scores_lr = []\n",
    "\n",
    "C = [10**i for i in range(-3,4)]\n",
    "\n",
    "for c in C:\n",
    "    lr_model = LogisticRegression(C=c, random_state=42)\n",
    "    \n",
    "    start_time = datetime.datetime.now()\n",
    "    score_lr = cross_val_score(lr_model, X, labels, cv=fold, scoring='roc_auc', n_jobs=-1)\n",
    "    \n",
    "    scores_lr.append(score_lr.mean())\n",
    "   \n",
    "    print('Time elapsed for c = {0} : {1}'.format(c, datetime.datetime.now() - start_time))\n",
    "    print('Score LR: ', score_lr)"
   ]
  },
  {
   "cell_type": "code",
   "execution_count": 51,
   "metadata": {},
   "outputs": [
    {
     "data": {
      "text/plain": [
       "Text(0, 0.5, 'Mean cross_val_score')"
      ]
     },
     "execution_count": 51,
     "metadata": {},
     "output_type": "execute_result"
    },
    {
     "data": {
      "image/png": "[encoded data removed]",
      "text/plain": [
       "<Figure size 432x288 with 1 Axes>"
      ]
     },
     "metadata": {
      "needs_background": "light"
     },
     "output_type": "display_data"
    }
   ],
   "source": [
    "plt.xscale('log')\n",
    "plt.plot(C, scores_lr, marker='o')\n",
    "plt.title('Изменение качества модели логистической регрессии')\n",
    "plt.xlabel('C')\n",
    "plt.ylabel('Mean cross_val_score')"
   ]
  },
  {
   "cell_type": "markdown",
   "metadata": {},
   "source": [
    "Можно заметить, что при полноценном использовании категориальных признаков качество модели увеличилось. Коофициент регуляризации при этом не изменился: наилучшее качество достигается при c = 10^-2.\n",
    "Это можно объяснить тем, что теперь данные признаки стали более значимыми для классификатора. Теперь алгоритм смотрит именно на наличие/отстутствие того или иного героя в матче, а не пытается получить закономерности исходя из числа которое является идентификатором."
   ]
  },
  {
   "cell_type": "markdown",
   "metadata": {},
   "source": [
    "## Использование наилучшей модели"
   ]
  },
  {
   "cell_type": "code",
   "execution_count": 52,
   "metadata": {},
   "outputs": [
    {
     "name": "stderr",
     "output_type": "stream",
     "text": [
      "D:\\Programs\\Anaconda\\lib\\site-packages\\sklearn\\linear_model\\logistic.py:433: FutureWarning: Default solver will be changed to 'lbfgs' in 0.22. Specify a solver to silence this warning.\n",
      "  FutureWarning)\n"
     ]
    },
    {
     "data": {
      "text/plain": [
       "LogisticRegression(C=0.01, class_weight=None, dual=False, fit_intercept=True,\n",
       "          intercept_scaling=1, max_iter=100, multi_class='warn',\n",
       "          n_jobs=None, penalty='l2', random_state=42, solver='warn',\n",
       "          tol=0.0001, verbose=0, warm_start=False)"
      ]
     },
     "execution_count": 52,
     "metadata": {},
     "output_type": "execute_result"
    }
   ],
   "source": [
    "best_model = LogisticRegression(C=0.01, random_state=42)\n",
    "best_model.fit(X, labels)"
   ]
  },
  {
   "cell_type": "code",
   "execution_count": 99,
   "metadata": {},
   "outputs": [],
   "source": [
    "test_data = pd.read_csv('D:/Downloads/features_test.csv', index_col='match_id')"
   ]
  },
  {
   "cell_type": "code",
   "execution_count": 100,
   "metadata": {},
   "outputs": [],
   "source": [
    "cat_features = ['lobby_type']\n",
    "for team in ['r', 'd']:\n",
    "    for player in range(1,6):\n",
    "        cat_features.append('{0}{1}_hero'.format(team, str(player)))"
   ]
  },
  {
   "cell_type": "code",
   "execution_count": 101,
   "metadata": {},
   "outputs": [],
   "source": [
    "test_data.fillna(0, inplace=True)"
   ]
  },
  {
   "cell_type": "code",
   "execution_count": 102,
   "metadata": {},
   "outputs": [],
   "source": [
    "test_no_cat = test_data.drop(cat_features, axis=1)"
   ]
  },
  {
   "cell_type": "code",
   "execution_count": 103,
   "metadata": {},
   "outputs": [
    {
     "name": "stderr",
     "output_type": "stream",
     "text": [
      "D:\\Programs\\Anaconda\\lib\\site-packages\\sklearn\\preprocessing\\data.py:645: DataConversionWarning: Data with input dtype int64, float64 were all converted to float64 by StandardScaler.\n",
      "  return self.partial_fit(X, y)\n",
      "D:\\Programs\\Anaconda\\lib\\site-packages\\sklearn\\base.py:464: DataConversionWarning: Data with input dtype int64, float64 were all converted to float64 by StandardScaler.\n",
      "  return self.fit(X, **fit_params).transform(X)\n"
     ]
    }
   ],
   "source": [
    "test_no_cat = scaler.fit_transform(test_no_cat)"
   ]
  },
  {
   "cell_type": "code",
   "execution_count": 104,
   "metadata": {},
   "outputs": [],
   "source": [
    "X_pick_test = hero_coder(test_data)\n",
    "X_test = np.concatenate((test_no_cat, X_pick_test), axis=1)"
   ]
  },
  {
   "cell_type": "code",
   "execution_count": 114,
   "metadata": {},
   "outputs": [],
   "source": [
    "preds = best_model.predict_proba(X_test)[:,1]"
   ]
  },
  {
   "cell_type": "code",
   "execution_count": 115,
   "metadata": {},
   "outputs": [
    {
     "name": "stdout",
     "output_type": "stream",
     "text": [
      "Минимальное значение прогноза на тестовой выборке:  0.006629274201728231\n",
      "Максимальное значение прогноза на тестовой выборке:  0.9953641855166777\n"
     ]
    }
   ],
   "source": [
    "print('Минимальное значение прогноза на тестовой выборке: ', preds.min())\n",
    "print('Максимальное значение прогноза на тестовой выборке: ', preds.max())"
   ]
  }
 ],
 "metadata": {
  "kernelspec": {
   "display_name": "Python 3",
   "language": "python",
   "name": "python3"
  },
  "language_info": {
   "codemirror_mode": {
    "name": "ipython",
    "version": 3
   },
   "file_extension": ".py",
   "mimetype": "text/x-python",
   "name": "python",
   "nbconvert_exporter": "python",
   "pygments_lexer": "ipython3",
   "version": "3.7.3"
  }
 },
 "nbformat": 4,
 "nbformat_minor": 2
}

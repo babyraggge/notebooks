{
 "cells": [
  {
   "cell_type": "markdown",
   "metadata": {},
   "source": [
    "# Введение в стохастическую оптимизацию"
   ]
  },
  {
   "cell_type": "markdown",
   "metadata": {},
   "source": [
    "## Исходные данные"
   ]
  },
  {
   "cell_type": "code",
   "execution_count": 56,
   "metadata": {},
   "outputs": [],
   "source": [
    "peoples = [('Seymour','BOS'),\n",
    "            ('Franny','DAL'),\n",
    "            ('Zooey','CAK'),\n",
    "            ('Walt','MIA'),\n",
    "            ('Buddy','ORD'),\n",
    "            ('Les','OMA')]\n",
    "\n",
    "destination = 'LGA'\n",
    "\n",
    "flights = {\n",
    "   ('LGA', 'CAK'): [('6:58', '9:01', 238), ('8:19', '11:16', 122), ('9:58', '12:56', 249), ('10:32', '13:16', 139), ('12:01', '13:41', 267), ('13:37', '15:33', 142), ('15:50', '18:45', 243), ('16:33', '18:15', 253), ('18:17', '21:04', 259), ('19:46', '21:45', 214)],\n",
    "   ('DAL', 'LGA'): [('6:12', '10:22', 230), ('7:53', '11:37', 433), ('9:08', '12:12', 364), ('10:30', '14:57', 290), ('12:19', '15:25', 342), ('13:54', '18:02', 294), ('15:44', '18:55', 382), ('16:52', '20:48', 448), ('18:26', '21:29', 464), ('20:07', '23:27', 473)],\n",
    "   ('LGA', 'BOS'): [('6:39', '8:09', 86), ('8:23', '10:28', 149), ('9:58', '11:18', 130), ('10:33', '12:03', 74), ('12:08', '14:05', 142), ('13:39', '15:30', 74), ('15:25', '16:58', 62), ('17:03', '18:03', 103), ('18:24', '20:49', 124), ('19:58', '21:23', 142)],\n",
    "   ('LGA', 'MIA'): [('6:33', '9:14', 172), ('8:23', '11:07', 143), ('9:25', '12:46', 295), ('11:08', '14:38', 262), ('12:37', '15:05', 170), ('14:08', '16:09', 232), ('15:23', '18:49', 150), ('16:50', '19:26', 304), ('18:07', '21:30', 355), ('20:27', '23:42', 169)],\n",
    "   ('LGA', 'OMA'): [('6:19', '8:13', 239), ('8:04', '10:59', 136), ('9:31', '11:43', 210), ('11:07', '13:24', 171), ('12:31', '14:02', 234), ('14:05', '15:47', 226), ('15:07', '17:21', 129), ('16:35', '18:56', 144), ('18:25', '20:34', 205), ('20:05', '21:44', 172)],\n",
    "   ('OMA', 'LGA'): [('6:11', '8:31', 249), ('7:39', '10:24', 219), ('9:15', '12:03', 99), ('11:08', '13:07', 175), ('12:18', '14:56', 172), ('13:37', '15:08', 250), ('15:03', '16:42', 135), ('16:51', '19:09', 147), ('18:12', '20:17', 242), ('20:05', '22:06', 261)],\n",
    "   ('CAK', 'LGA'): [('6:08', '8:06', 224), ('8:27', '10:45', 139), ('9:15', '12:14', 247), ('10:53', '13:36', 189), ('12:08', '14:59', 149), ('13:40', '15:38', 137), ('15:23', '17:25', 232), ('17:08', '19:08', 262), ('18:35', '20:28', 204), ('20:30', '23:11', 114)],\n",
    "   ('LGA', 'DAL'): [('6:09', '9:49', 414), ('7:57', '11:15', 347), ('9:49', '13:51', 229), ('10:51', '14:16', 256), ('12:20', '16:34', 500), ('14:20', '17:32', 332), ('15:49', '20:10', 497), ('17:14', '20:59', 277), ('18:44', '22:42', 351), ('19:57', '23:15', 512)],\n",
    "   ('LGA', 'ORD'): [('6:03', '8:43', 219), ('7:50', '10:08', 164), ('9:11', '10:42', 172), ('10:33', '13:11', 132), ('12:08', '14:47', 231), ('14:19', '17:09', 190), ('15:04', '17:23', 189), ('17:06', '20:00', 95), ('18:33', '20:22', 143), ('19:32', '21:25', 160)],\n",
    "   ('ORD', 'LGA'): [('6:05', '8:32', 174), ('8:25', '10:34', 157), ('9:42', '11:32', 169), ('11:01', '12:39', 260), ('12:44', '14:17', 134), ('14:22', '16:32', 126), ('15:58', '18:40', 173), ('16:43', '19:00', 246), ('18:48', '21:45', 246), ('19:50', '22:24', 269)],\n",
    "   ('MIA', 'LGA'): [('6:25', '9:30', 335), ('7:34', '9:40', 324), ('9:15', '12:29', 225), ('11:28', '14:40', 248), ('12:05', '15:30', 330), ('14:01', '17:24', 338), ('15:34', '18:11', 326), ('17:07', '20:04', 291), ('18:23', '21:35', 134), ('19:53', '22:21', 173)],\n",
    "   ('BOS', 'LGA'): [('6:17', '8:26', 89), ('8:04', '10:11', 95), ('9:45', '11:50', 172), ('11:16', '13:29', 83), ('12:34', '15:02', 109), ('13:40', '15:37', 138), ('15:27', '17:18', 151), ('17:11', '18:30', 108), ('18:34', '19:36', 136), ('20:17', '22:22', 102)]\n",
    "}"
   ]
  },
  {
   "cell_type": "markdown",
   "metadata": {},
   "source": [
    "## Целевая функция"
   ]
  },
  {
   "cell_type": "markdown",
   "metadata": {},
   "source": [
    "Целевая функция schedule_cost возвращает значение, показывающее, насколько данное решение неудовлетворительно. Возвращаемое значение должно быть тем больше, чем хуже решение."
   ]
  },
  {
   "cell_type": "code",
   "execution_count": 57,
   "metadata": {},
   "outputs": [],
   "source": [
    "import time\n",
    "\n",
    "def get_minutes(t):\n",
    "    x = time.strptime(t,'%H:%M')\n",
    "    return x[3]*60 + x[4]"
   ]
  },
  {
   "cell_type": "code",
   "execution_count": 58,
   "metadata": {},
   "outputs": [],
   "source": [
    "def schedule_cost(sol):\n",
    "    \n",
    "    totalprice = 0\n",
    "    latestarrival = 0\n",
    "    earliestdep = 24*60\n",
    "    totalwait = 0\n",
    "    \n",
    "    for d in range(int(len(sol)/2)):\n",
    "        origin = peoples[d][1]\n",
    "        outbound = flights[(origin, destination)][sol[d]]\n",
    "        returnf = flights[(destination, origin)][sol[d+1]]\n",
    "        \n",
    "        totalprice += outbound[2]\n",
    "        totalprice += returnf[2]\n",
    "        \n",
    "        outbound_minutes = get_minutes(outbound[1])\n",
    "        returnf_minuters = get_minutes(returnf[0])\n",
    "        \n",
    "        if latestarrival < outbound_minutes: \n",
    "            latestarrival = outbound_minutes\n",
    "            \n",
    "        if earliestdep > returnf_minuters: \n",
    "            earliestdep = returnf_minuters\n",
    "        \n",
    "        totalwait += latestarrival - outbound_minutes\n",
    "        totalwait += returnf_minuters - earliestdep\n",
    "        \n",
    "    if latestarrival > earliestdep: \n",
    "        totalprice += 50\n",
    "    \n",
    "    return totalprice + totalwait  "
   ]
  },
  {
   "cell_type": "markdown",
   "metadata": {},
   "source": [
    "## Случайный поиск"
   ]
  },
  {
   "cell_type": "code",
   "execution_count": 59,
   "metadata": {},
   "outputs": [],
   "source": [
    "import random\n",
    "\n",
    "def random_optimize(domain, costf, n=1000):\n",
    "    best=99999999\n",
    "    bestr=None\n",
    "    \n",
    "    for i in range(n):\n",
    "        r = [random.randint(0, domain[i]) for i in range(len(domain))]\n",
    "        \n",
    "        cost = costf(r)\n",
    "        if cost < best:\n",
    "            best = cost\n",
    "            bestr = r\n",
    "        return r, best        "
   ]
  },
  {
   "cell_type": "code",
   "execution_count": 60,
   "metadata": {},
   "outputs": [
    {
     "name": "stdout",
     "output_type": "stream",
     "text": [
      "[9, 9, 9, 9, 9, 9, 9, 9, 9, 9, 9, 9]\n"
     ]
    }
   ],
   "source": [
    "domain = []\n",
    "for people in peoples:\n",
    "    domain.append(len(flights[(people[1], destination)]) - 1)\n",
    "    domain.append(len(flights[(destination, people[1])]) - 1)\n",
    "print(domain)"
   ]
  },
  {
   "cell_type": "code",
   "execution_count": 61,
   "metadata": {},
   "outputs": [
    {
     "name": "stdout",
     "output_type": "stream",
     "text": [
      "[7, 6, 1, 6, 4, 8, 3, 4, 0, 7, 2, 1] 4908\n",
      "[9, 6, 9, 0, 8, 5, 9, 9, 6, 9, 0, 3] 6774\n",
      "[6, 2, 9, 0, 9, 0, 4, 4, 5, 5, 7, 8] 6884\n",
      "[1, 5, 4, 5, 3, 8, 4, 9, 8, 0, 1, 1] 3932\n",
      "[4, 5, 5, 3, 9, 2, 9, 5, 4, 1, 5, 3] 4521\n",
      "[9, 3, 0, 5, 0, 4, 7, 8, 8, 3, 0, 2] 6859\n",
      "[2, 1, 1, 1, 5, 7, 7, 3, 9, 2, 2, 0] 4148\n",
      "[3, 9, 2, 0, 5, 3, 2, 3, 3, 2, 5, 1] 6015\n",
      "[1, 9, 1, 1, 8, 6, 2, 7, 5, 6, 4, 3] 6076\n",
      "[6, 6, 6, 8, 1, 3, 5, 5, 3, 6, 8, 3] 4527\n"
     ]
    }
   ],
   "source": [
    "for i in range(10):\n",
    "    result, score = random_optimize(domain, schedule_cost)\n",
    "    print (result, score)"
   ]
  },
  {
   "cell_type": "markdown",
   "metadata": {},
   "source": [
    "<p>Проведя 10 запусков алгоритма случайного поиска, наименьшее значение функции издержек было достигунта при следующих аргументах: [8, 0, 7, 1, 6, 7, 0, 3, 9, 8, 3, 9]</p>"
   ]
  },
  {
   "cell_type": "markdown",
   "metadata": {},
   "source": [
    "## Алгоритм спуска с горы"
   ]
  },
  {
   "cell_type": "code",
   "execution_count": 62,
   "metadata": {},
   "outputs": [],
   "source": [
    "def hill_climb(domain, costf):\n",
    "    sol = [random.randint(0, domain[i]) for i in range(len(domain))]\n",
    "    best = costf(sol)\n",
    "    \n",
    "    is_stop = False\n",
    "    \n",
    "    while not is_stop:\n",
    "        neighbors = []\n",
    "        for j in range(len(domain)):\n",
    "            \n",
    "            if 0 < sol[j] < 9:\n",
    "                neighbors.append(sol[0:j] + [sol[j]+1] + sol[j+1:])\n",
    "                neighbors.append(sol[0:j] + [sol[j]-1] + sol[j+1:])\n",
    "\n",
    "            if 0 == sol[j]:\n",
    "                neighbors.append(sol[0:j] + [sol[j]+1] + sol[j+1:])\n",
    "\n",
    "            if sol[j] == domain[j]:\n",
    "                neighbors.append(sol[0:j] + [sol[j]-1] + sol[j+1:])\n",
    "                \n",
    "        is_stop = True\n",
    "        for j in range(len(neighbors)):\n",
    "            cost = costf(neighbors[j])\n",
    "            if cost < best:\n",
    "                is_stop = False\n",
    "                best = cost\n",
    "                sol = neighbors[j]\n",
    "\n",
    "    return sol, best"
   ]
  },
  {
   "cell_type": "code",
   "execution_count": 63,
   "metadata": {},
   "outputs": [
    {
     "name": "stdout",
     "output_type": "stream",
     "text": [
      "[3, 3, 3, 3, 4, 3, 6, 1, 1, 5, 3, 9] 2736\n",
      "[3, 5, 5, 5, 6, 7, 6, 3, 3, 4, 2, 0] 2772\n",
      "[3, 6, 7, 3, 6, 3, 3, 1, 3, 5, 7, 5] 3397\n",
      "[3, 3, 3, 3, 4, 6, 1, 4, 6, 1, 9, 3] 2646\n",
      "[7, 6, 7, 6, 6, 7, 6, 1, 0, 2, 1, 7] 2726\n",
      "[7, 6, 7, 6, 6, 7, 6, 1, 4, 5, 7, 9] 2726\n",
      "[7, 6, 7, 6, 6, 7, 6, 5, 6, 2, 3, 0] 2726\n",
      "[3, 5, 5, 5, 1, 2, 1, 9, 8, 4, 9, 9] 3235\n",
      "[3, 3, 3, 3, 1, 2, 6, 0, 8, 7, 0, 9] 3034\n",
      "[3, 5, 5, 5, 6, 7, 6, 4, 3, 1, 9, 6] 2772\n"
     ]
    }
   ],
   "source": [
    "for i in range(10):\n",
    "    result, score = hill_climb(domain, schedule_cost)\n",
    "    print(result, score)"
   ]
  },
  {
   "cell_type": "markdown",
   "metadata": {},
   "source": [
    "<p>После 10 запусков данного алгоритма спуска, можно заметить, что значения функции издержек находятся довольно близко друг к другу, но не обязательно равны. Это связано с начальной случайной инициализацией исходного решения, от которого впоследствии алгоритм делает шаги.</p>"
   ]
  },
  {
   "cell_type": "markdown",
   "metadata": {},
   "source": [
    "## Алгоритм имитации отжига"
   ]
  },
  {
   "cell_type": "code",
   "execution_count": 64,
   "metadata": {},
   "outputs": [],
   "source": [
    "import math\n",
    "\n",
    "def annealing_optimize(domain, costf, T=10000.0, cool=0.99, step=1):\n",
    "    \n",
    "    vec = [random.randint(0, domain[i]) for i in range(len(domain))]\n",
    "\n",
    "    while T > 0.1:\n",
    "            \n",
    "            i = random.randint(0, len(domain)-1)\n",
    "            \n",
    "            ddir = random.randint(-step, step)\n",
    "\n",
    "            vecb = vec[:]\n",
    "            vecb[i] += ddir\n",
    "            if vecb[i] < 0: \n",
    "                vecb[i] = 0\n",
    "                \n",
    "            elif vecb[i] > domain[i]: \n",
    "                vecb[i] = domain[i]\n",
    "\n",
    "            ea = costf(vec)\n",
    "            eb = costf(vecb)\n",
    "            p = pow(math.e, (-eb-ea)/T)\n",
    "\n",
    "            if (eb < ea or random.random() < p):\n",
    "                vec = vecb      \n",
    "\n",
    "            T = T * cool\n",
    "    return vec, eb"
   ]
  },
  {
   "cell_type": "code",
   "execution_count": 65,
   "metadata": {},
   "outputs": [
    {
     "name": "stdout",
     "output_type": "stream",
     "text": [
      "[3, 3, 3, 3, 4, 3, 1, 6, 6, 1, 4, 9] 2468\n",
      "[3, 6, 7, 6, 6, 4, 3, 4, 6, 5, 5, 8] 3053\n",
      "[0, 3, 3, 3, 4, 3, 1, 1, 9, 7, 4, 9] 2474\n",
      "[0, 3, 3, 3, 4, 3, 6, 2, 3, 3, 0, 2] 2742\n",
      "[0, 3, 3, 3, 4, 3, 6, 1, 9, 7, 9, 9] 2942\n",
      "[3, 5, 5, 5, 1, 2, 1, 0, 3, 3, 0, 3] 3235\n",
      "[3, 5, 5, 5, 6, 7, 6, 3, 8, 1, 6, 3] 2822\n",
      "[3, 3, 3, 3, 4, 3, 6, 0, 8, 4, 9, 9] 2736\n",
      "[3, 3, 3, 3, 4, 3, 1, 5, 0, 5, 3, 8] 2468\n",
      "[3, 6, 7, 6, 6, 7, 6, 9, 1, 0, 5, 9] 2701\n"
     ]
    }
   ],
   "source": [
    "for i in range(10):\n",
    "    result, score = annealing_optimize(domain, schedule_cost)\n",
    "    print(result, score)"
   ]
  },
  {
   "cell_type": "markdown",
   "metadata": {},
   "source": [
    "В результате работы алгоритма мы получили значения функции близких дргу к другу."
   ]
  },
  {
   "cell_type": "markdown",
   "metadata": {},
   "source": [
    "## Генетические алгоритмы"
   ]
  },
  {
   "cell_type": "code",
   "execution_count": 66,
   "metadata": {},
   "outputs": [],
   "source": [
    "def genetic_optimize(domain, costf, pop_size=50, step=1, mutprob=0.2, elite=0.2, maxiter=100):\n",
    "    \n",
    "    def mutate(vec):\n",
    "        i = random.randint(0, len(domain)-1)\n",
    "        if vec[i] < domain[i]:\n",
    "            return vec[0:i]+[vec[i]+step]+vec[i+1:]\n",
    "        else:\n",
    "            return vec[0:i]+[vec[i]-step]+vec[i+1:]\n",
    "        \n",
    "    def crossover(r1, r2):\n",
    "        i = random.randint(1, len(domain)-2)\n",
    "        return r1[0:i]+r2[i:]\n",
    "    \n",
    "    pop = []\n",
    "    for i in range(pop_size):\n",
    "        vec = [random.randint(0, domain[i]) for i in range(len(domain))]\n",
    "        pop.append(vec)\n",
    "\n",
    "    topelite = int(elite*pop_size)\n",
    "\n",
    "    for i in range(maxiter):\n",
    "        scores = [(costf(v), v) for v in pop]\n",
    "        scores.sort()\n",
    "        ranked = [v for (s,v) in scores]\n",
    "\n",
    "    pop = ranked[0:topelite]\n",
    "\n",
    "    while len(pop) < pop_size:\n",
    "        \n",
    "        if random.random() < mutprob:\n",
    "            c = random.randint(0, topelite)\n",
    "            pop.append(mutate(ranked[c]))\n",
    "\n",
    "    else:\n",
    "        c1 = random.randint(0, topelite)\n",
    "        c2 = random.randint(0, topelite)\n",
    "        pop.append(crossover(ranked[c1], ranked[c2]))\n",
    "\n",
    "    return scores[0][1], scores[0][0]"
   ]
  },
  {
   "cell_type": "code",
   "execution_count": 67,
   "metadata": {},
   "outputs": [
    {
     "name": "stdout",
     "output_type": "stream",
     "text": [
      "[5, 5, 4, 5, 4, 8, 6, 8, 4, 6, 6, 5] 3583\n",
      "[2, 4, 3, 3, 7, 6, 0, 8, 8, 3, 0, 1] 3593\n",
      "[6, 6, 7, 7, 4, 3, 0, 9, 6, 6, 9, 6] 3519\n",
      "[3, 6, 6, 5, 6, 6, 0, 2, 8, 9, 5, 7] 3218\n",
      "[8, 7, 7, 5, 6, 4, 6, 8, 2, 9, 3, 4] 3691\n",
      "[3, 6, 4, 5, 5, 7, 2, 3, 4, 7, 5, 5] 3457\n",
      "[4, 3, 4, 3, 3, 1, 3, 6, 9, 6, 9, 0] 3426\n",
      "[1, 6, 6, 5, 5, 4, 4, 8, 9, 2, 8, 7] 3434\n",
      "[3, 1, 2, 3, 4, 4, 2, 6, 4, 6, 0, 8] 3467\n",
      "[1, 3, 4, 2, 6, 6, 6, 7, 3, 6, 1, 4] 3723\n"
     ]
    }
   ],
   "source": [
    "for i in range(10):\n",
    "    result, score = genetic_optimize(domain, schedule_cost)\n",
    "    print(result, score)"
   ]
  },
  {
   "cell_type": "markdown",
   "metadata": {},
   "source": [
    "Несмотря на то, что генетический алгорим вычислительно сложнее чем остальные, он значительно хуже минимизирует функцию издержек. Таким образом, минимум функции издержек достигается при использовании алгоритма имитации отжига.\n",
    "Наименьший диапазон значений функции был достигнут при использовании алгоритма спуска с горы."
   ]
  },
  {
   "cell_type": "markdown",
   "metadata": {},
   "source": [
    "## Работа с допонительными данными"
   ]
  },
  {
   "cell_type": "markdown",
   "metadata": {},
   "source": [
    "Добавим некоторые данные в наш словарь рейсов и в список людей."
   ]
  },
  {
   "cell_type": "code",
   "execution_count": 68,
   "metadata": {},
   "outputs": [],
   "source": [
    "if ('Mariya', 'CDG') not in peoples: peoples.append(('Mariya', 'CDG'))\n",
    "if ('Felyk', 'CDG') not in peoples: peoples.append(('Felyk', 'CDG'))"
   ]
  },
  {
   "cell_type": "markdown",
   "metadata": {},
   "source": [
    "В связи с тем, что функция издержек принимает ключ-значение определенного значения (10 рейсов в каждую из сторон), то при добавлении новых записий словарь это необходимо учитывать. Если длина списка(значения) будет отлична от 10, алгоритм выйдет за пределы индекса массива."
   ]
  },
  {
   "cell_type": "code",
   "execution_count": 69,
   "metadata": {},
   "outputs": [],
   "source": [
    "flights[('CDG', 'LGA')] = [('4:58', '9:01', 500), ('9:41', '13:05', 330), ('9:58', '12:56', 249), ('10:32', '13:16', 139), ('12:01', '13:41', 267), ('13:37', '15:33', 142), ('15:50', '18:45', 243), ('16:33', '18:15', 253), ('18:17', '21:04', 259), ('19:46', '21:45', 214)]\n",
    "flights[('LGA', 'CDG')] = [('0:17', '4:43', 321), ('5:23', '9:43', 432), ('5:32', '9:59', 432), ('7:23', '12:43', 432),\n",
    "                           ('9:50', '12:43', 295), ('13:00', '16:31', 351), \n",
    "                        ('17:17', '20:43', 311), ('19:23', '22:02', 499), ('20:05', '23:49', 312), ('21:00', '23:59', 489)]"
   ]
  },
  {
   "cell_type": "code",
   "execution_count": 70,
   "metadata": {},
   "outputs": [
    {
     "name": "stdout",
     "output_type": "stream",
     "text": [
      "[9, 9, 9, 9, 9, 9, 9, 9, 9, 9, 9, 9, 9, 9, 9, 9]\n"
     ]
    }
   ],
   "source": [
    "domain = []\n",
    "for people in peoples:\n",
    "    domain.append(len(flights[(people[1], destination)]) - 1)\n",
    "    domain.append(len(flights[(destination, people[1])]) - 1)\n",
    "print(domain)"
   ]
  },
  {
   "cell_type": "code",
   "execution_count": 71,
   "metadata": {},
   "outputs": [
    {
     "name": "stdout",
     "output_type": "stream",
     "text": [
      "10 10\n"
     ]
    }
   ],
   "source": [
    "print(len(flights[('CDG', 'LGA')]), len(flights[('LGA', 'CDG')]))"
   ]
  },
  {
   "cell_type": "markdown",
   "metadata": {},
   "source": [
    "### Случайный поиск"
   ]
  },
  {
   "cell_type": "code",
   "execution_count": 72,
   "metadata": {},
   "outputs": [
    {
     "name": "stdout",
     "output_type": "stream",
     "text": [
      "[8, 3, 1, 8, 0, 3, 1, 1, 2, 1, 4, 2, 9, 6, 9, 5] 7823\n",
      "[9, 3, 2, 4, 7, 6, 0, 6, 5, 1, 8, 2, 3, 8, 8, 1] 9059\n",
      "[8, 6, 2, 3, 7, 5, 6, 2, 8, 0, 7, 6, 6, 2, 3, 3] 7307\n",
      "[2, 9, 4, 3, 8, 9, 8, 5, 4, 1, 9, 5, 7, 6, 4, 1] 7598\n",
      "[9, 6, 3, 6, 1, 6, 6, 2, 2, 8, 6, 3, 3, 9, 2, 3] 7638\n",
      "[9, 1, 6, 8, 4, 1, 2, 0, 2, 2, 7, 3, 4, 1, 2, 5] 9524\n",
      "[8, 6, 5, 1, 9, 2, 5, 9, 7, 0, 3, 3, 8, 6, 7, 1] 8321\n",
      "[4, 6, 1, 2, 1, 7, 0, 6, 9, 4, 4, 4, 6, 0, 6, 0] 8131\n",
      "[1, 1, 7, 7, 3, 4, 0, 5, 1, 7, 2, 4, 6, 6, 3, 1] 7898\n",
      "[6, 8, 4, 3, 8, 3, 8, 1, 3, 7, 6, 4, 1, 5, 4, 3] 7318\n"
     ]
    }
   ],
   "source": [
    "for i in range(10):\n",
    "    result, score = random_optimize(domain, schedule_cost)\n",
    "    print(result, score)"
   ]
  },
  {
   "cell_type": "markdown",
   "metadata": {},
   "source": [
    "### Спуск с горы"
   ]
  },
  {
   "cell_type": "code",
   "execution_count": 73,
   "metadata": {},
   "outputs": [
    {
     "name": "stdout",
     "output_type": "stream",
     "text": [
      "[3, 3, 3, 3, 4, 3, 5, 5, 4, 2, 3, 8, 7, 7, 2, 0] 3849\n",
      "[0, 6, 7, 6, 6, 7, 6, 6, 0, 9, 2, 8, 7, 6, 5, 1] 4003\n",
      "[3, 3, 3, 3, 1, 2, 5, 3, 0, 8, 0, 5, 7, 9, 5, 4] 4240\n",
      "[3, 4, 5, 4, 4, 4, 3, 5, 4, 8, 2, 4, 2, 8, 4, 6] 4054\n",
      "[3, 3, 3, 3, 1, 2, 1, 3, 3, 0, 6, 7, 5, 4, 0, 9] 4183\n",
      "[3, 5, 5, 5, 6, 7, 6, 8, 4, 1, 0, 7, 4, 8, 5, 3] 4293\n",
      "[3, 8, 8, 8, 8, 7, 9, 6, 2, 4, 4, 9, 1, 0, 0, 8] 4491\n",
      "[0, 6, 7, 6, 6, 7, 6, 6, 8, 6, 8, 1, 3, 7, 2, 3] 4292\n",
      "[3, 3, 3, 3, 4, 3, 3, 8, 0, 0, 5, 1, 6, 7, 0, 4] 4243\n",
      "[3, 3, 3, 3, 4, 3, 3, 8, 4, 2, 8, 6, 2, 6, 6, 7] 4217\n"
     ]
    }
   ],
   "source": [
    "for i in range(10):\n",
    "    result, score = hill_climb(domain, schedule_cost)\n",
    "    print(result, score)"
   ]
  },
  {
   "cell_type": "markdown",
   "metadata": {},
   "source": [
    "### Алгоритм имитации отжига"
   ]
  },
  {
   "cell_type": "code",
   "execution_count": 74,
   "metadata": {},
   "outputs": [
    {
     "name": "stdout",
     "output_type": "stream",
     "text": [
      "[0, 2, 2, 2, 2, 6, 6, 8, 0, 6, 1, 9, 4, 3, 7, 8] 5022\n",
      "[3, 5, 5, 5, 6, 7, 1, 3, 0, 8, 8, 3, 4, 3, 7, 0] 4628\n",
      "[7, 6, 7, 3, 1, 2, 1, 3, 8, 9, 6, 3, 8, 0, 9, 7] 6289\n",
      "[3, 3, 3, 3, 4, 3, 5, 5, 0, 7, 9, 2, 9, 3, 2, 8] 4193\n",
      "[0, 2, 2, 2, 2, 2, 3, 4, 4, 6, 3, 7, 5, 8, 7, 9] 3771\n",
      "[3, 4, 5, 4, 4, 4, 5, 5, 8, 6, 9, 3, 5, 6, 8, 3] 4546\n",
      "[3, 3, 3, 3, 4, 3, 3, 4, 0, 4, 6, 8, 3, 4, 7, 8] 3819\n",
      "[3, 3, 3, 3, 4, 3, 5, 5, 2, 9, 2, 7, 4, 6, 4, 3] 3986\n",
      "[3, 5, 5, 5, 6, 7, 6, 5, 0, 8, 3, 5, 7, 9, 1, 5] 4069\n",
      "[3, 3, 3, 3, 4, 3, 5, 5, 8, 7, 2, 8, 3, 2, 2, 9] 4439\n"
     ]
    }
   ],
   "source": [
    "for i in range(10):\n",
    "    result, score = annealing_optimize(domain, schedule_cost)\n",
    "    print(result, score)"
   ]
  },
  {
   "cell_type": "markdown",
   "metadata": {},
   "source": [
    "### Генетический алгоритм"
   ]
  },
  {
   "cell_type": "code",
   "execution_count": 75,
   "metadata": {},
   "outputs": [
    {
     "name": "stdout",
     "output_type": "stream",
     "text": [
      "[6, 7, 9, 8, 8, 7, 2, 6, 5, 2, 7, 9, 8, 4, 0, 8] 6273\n",
      "[7, 6, 6, 4, 6, 8, 1, 2, 3, 9, 9, 4, 8, 9, 7, 2] 6127\n",
      "[5, 5, 4, 5, 4, 6, 6, 5, 5, 8, 0, 9, 9, 9, 5, 0] 4752\n",
      "[3, 4, 5, 4, 6, 0, 6, 6, 0, 5, 5, 5, 6, 2, 7, 5] 5890\n",
      "[0, 0, 3, 0, 3, 2, 3, 1, 2, 0, 3, 5, 7, 4, 0, 7] 5186\n",
      "[4, 5, 4, 3, 3, 1, 1, 1, 2, 5, 3, 4, 9, 7, 8, 3] 5947\n",
      "[1, 4, 3, 5, 1, 1, 6, 8, 0, 1, 1, 3, 4, 0, 1, 1] 5778\n",
      "[3, 6, 3, 5, 6, 4, 6, 3, 3, 5, 6, 9, 5, 8, 4, 8] 5387\n",
      "[1, 5, 7, 7, 6, 6, 5, 8, 8, 1, 3, 7, 3, 5, 2, 3] 5427\n",
      "[2, 2, 2, 2, 4, 2, 3, 5, 8, 4, 2, 4, 3, 1, 7, 1] 4727\n"
     ]
    }
   ],
   "source": [
    "for i in range(10):\n",
    "    result, score = genetic_optimize(domain, schedule_cost)\n",
    "    print(result, score)"
   ]
  },
  {
   "cell_type": "markdown",
   "metadata": {},
   "source": [
    "В данном случае, алгоритм спуска с горы снова продемонстровал наименьший разброс значений функции издержек."
   ]
  }
 ],
 "metadata": {
  "kernelspec": {
   "display_name": "Python 3",
   "language": "python",
   "name": "python3"
  },
  "language_info": {
   "codemirror_mode": {
    "name": "ipython",
    "version": 3
   },
   "file_extension": ".py",
   "mimetype": "text/x-python",
   "name": "python",
   "nbconvert_exporter": "python",
   "pygments_lexer": "ipython3",
   "version": "3.7.3"
  }
 },
 "nbformat": 4,
 "nbformat_minor": 2
}

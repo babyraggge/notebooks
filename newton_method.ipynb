{
 "cells": [
  {
   "cell_type": "code",
   "execution_count": 21,
   "metadata": {},
   "outputs": [],
   "source": [
    "import math\n",
    "import numpy as np"
   ]
  },
  {
   "cell_type": "markdown",
   "metadata": {},
   "source": [
    "# Решение систем нелинейных уравнений"
   ]
  },
  {
   "cell_type": "markdown",
   "metadata": {},
   "source": [
    "## Метод Ньютона для систем уравнений"
   ]
  },
  {
   "cell_type": "markdown",
   "metadata": {},
   "source": [
    "Для задания вектор функции и расчета его матрицы якобы воспользуемся символьными вычислениями."
   ]
  },
  {
   "cell_type": "code",
   "execution_count": 22,
   "metadata": {},
   "outputs": [],
   "source": [
    "import sympy as sp\n",
    "\n",
    "x1, x2, x3, x4 = sp.symbols('x1,x2,x3,x4', real=True)\n",
    "\n",
    "f1 = (3 + 2*x1)*x1 - 2*x2 - 3\n",
    "f2 = (3 + 2*x2)*x2 - x1 + 2*x3 - 2\n",
    "f3 = (3 + 2*x3)*x3 - x2 + 2*x4 - 3\n",
    "f4 = (3 + 2*x4)*x4 - x3 - 4\n",
    "\n",
    "expr_F = sp.Matrix([f1, f2, f3, f4])\n",
    "\n",
    "expr_J = expr_F.jacobian([x1, x2, x3, x4])\n",
    "\n",
    "vector_function = sp.lambdify((x1, x2, x3, x4), expr_F, \"numpy\")\n",
    "jacobian = sp.lambdify((x1, x2, x3, x4), expr_J, \"numpy\")"
   ]
  },
  {
   "cell_type": "code",
   "execution_count": 23,
   "metadata": {},
   "outputs": [],
   "source": [
    "def newton_method(X: np.array, eps=1e-3, max_iter=100, verbose=False):\n",
    "    X = X.T\n",
    "    for i in range(max_iter):\n",
    "        J = jacobian(*X)\n",
    "        F = vector_function(*X)\n",
    "        delta = np.linalg.solve(J, -1 * F).flatten()\n",
    "        X += delta\n",
    "        \n",
    "        if np.linalg.norm(delta) < eps:\n",
    "            break\n",
    "        if verbose:\n",
    "            print(\"Iter {0}: {1}\".format(i, X))       \n",
    "    return X"
   ]
  },
  {
   "cell_type": "markdown",
   "metadata": {},
   "source": [
    "Получаем решение через 3 итерации:"
   ]
  },
  {
   "cell_type": "code",
   "execution_count": 24,
   "metadata": {},
   "outputs": [
    {
     "name": "stdout",
     "output_type": "stream",
     "text": [
      "Iter 0: [0.87014028 0.54549098 0.5258517  0.93226453]\n",
      "Iter 1: [0.85005394 0.49726914 0.434172   0.91727641]\n",
      "Iter 2: [0.8500415  0.49763279 0.4309333  0.91672342]\n"
     ]
    },
    {
     "data": {
      "text/plain": [
       "array([0.85004199, 0.49763437, 0.43092948, 0.91672275])"
      ]
     },
     "execution_count": 24,
     "metadata": {},
     "output_type": "execute_result"
    }
   ],
   "source": [
    "X = np.array([1, 1, 1, 1], dtype='float')\n",
    "\n",
    "newton_method(X, verbose=True)"
   ]
  }
 ],
 "metadata": {
  "kernelspec": {
   "display_name": "Python 3",
   "language": "python",
   "name": "python3"
  },
  "language_info": {
   "codemirror_mode": {
    "name": "ipython",
    "version": 3
   },
   "file_extension": ".py",
   "mimetype": "text/x-python",
   "name": "python",
   "nbconvert_exporter": "python",
   "pygments_lexer": "ipython3",
   "version": "3.7.3"
  }
 },
 "nbformat": 4,
 "nbformat_minor": 2
}

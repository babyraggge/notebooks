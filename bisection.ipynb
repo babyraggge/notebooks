{
 "cells": [
  {
   "cell_type": "code",
   "execution_count": 23,
   "metadata": {},
   "outputs": [],
   "source": [
    "def Bisection(f: object, a: float, b: float, \n",
    "              eps: float=1e-3, steps: int=1000, verbose: bool=False) -> (float, int):\n",
    "    for i in range(steps): \n",
    "        \n",
    "        if abs(b-a) <= eps:\n",
    "            break    \n",
    "            \n",
    "        x = (a + b) / 2\n",
    "        f1 = f(x + eps)\n",
    "        f2 = f(x - eps)\n",
    "        if f1 < f2:\n",
    "            a = x\n",
    "        else:\n",
    "            b = x\n",
    "            \n",
    "        if verbose: print(\"Iter: {0} --> x = {1}\".format(i, x))\n",
    "            \n",
    "    try:\n",
    "        return x, i  \n",
    "    except UnboundLocalError:\n",
    "        print(\"Eps is more then lenght of the interval\")\n",
    "        return None"
   ]
  },
  {
   "cell_type": "code",
   "execution_count": 24,
   "metadata": {},
   "outputs": [],
   "source": [
    "def ff1(x):\n",
    "    return x**2 - x*2 + 3"
   ]
  },
  {
   "cell_type": "code",
   "execution_count": 25,
   "metadata": {},
   "outputs": [
    {
     "name": "stdout",
     "output_type": "stream",
     "text": [
      "Iter: 0 --> x = 0.0\n",
      "Iter: 1 --> x = 1.0\n",
      "Iter: 2 --> x = 0.5\n",
      "Iter: 3 --> x = 0.75\n",
      "Iter: 4 --> x = 0.875\n",
      "Iter: 5 --> x = 0.9375\n",
      "Iter: 6 --> x = 0.96875\n",
      "Iter: 7 --> x = 0.984375\n",
      "Iter: 8 --> x = 0.9921875\n",
      "Iter: 9 --> x = 0.99609375\n",
      "Iter: 10 --> x = 0.998046875\n",
      "Iter: 11 --> x = 0.9990234375\n"
     ]
    },
    {
     "data": {
      "text/plain": [
       "(0.9990234375, 12)"
      ]
     },
     "execution_count": 25,
     "metadata": {},
     "output_type": "execute_result"
    }
   ],
   "source": [
    "Bisection(ff1, -2, 2, verbose=True)"
   ]
  },
  {
   "cell_type": "code",
   "execution_count": null,
   "metadata": {},
   "outputs": [],
   "source": []
  }
 ],
 "metadata": {
  "kernelspec": {
   "display_name": "Python 3",
   "language": "python",
   "name": "python3"
  },
  "language_info": {
   "codemirror_mode": {
    "name": "ipython",
    "version": 3
   },
   "file_extension": ".py",
   "mimetype": "text/x-python",
   "name": "python",
   "nbconvert_exporter": "python",
   "pygments_lexer": "ipython3",
   "version": "3.7.3"
  }
 },
 "nbformat": 4,
 "nbformat_minor": 2
}
